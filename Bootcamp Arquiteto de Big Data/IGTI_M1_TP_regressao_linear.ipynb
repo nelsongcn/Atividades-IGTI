{
  "nbformat": 4,
  "nbformat_minor": 0,
  "metadata": {
    "colab": {
      "name": "IGTI_M1_TP_regressao_linear.ipynb",
      "provenance": [],
      "collapsed_sections": [
        "Lv7O8qzPQ4f3",
        "TWGVKh4DRtag"
      ],
      "include_colab_link": true
    },
    "kernelspec": {
      "name": "python3",
      "display_name": "Python 3"
    },
    "language_info": {
      "name": "python"
    }
  },
  "cells": [
    {
      "cell_type": "markdown",
      "metadata": {
        "id": "view-in-github",
        "colab_type": "text"
      },
      "source": [
        "<a href=\"https://colab.research.google.com/github/nelsongcn/Atividades-IGTI/blob/main/IGTI_M1_TP_regressao_linear.ipynb\" target=\"_parent\"><img src=\"https://colab.research.google.com/assets/colab-badge.svg\" alt=\"Open In Colab\"/></a>"
      ]
    },
    {
      "cell_type": "markdown",
      "metadata": {
        "id": "p7QMDiFMLHT9"
      },
      "source": [
        "# Regressão Linear\n",
        "\n",
        "Aula prática de regressão linear. \n",
        "O objetivo é prever o custo da diária de um imóvel baseado ao número de pessoas\n",
        "\n"
      ]
    },
    {
      "cell_type": "code",
      "metadata": {
        "id": "2yjyE41bLM3G"
      },
      "source": [
        "# importando as bibliotecas \n",
        "import pandas as pd # Trabalhar com tabelas e importação dos arquivos utilizados\n",
        "import plotly.express as px # biblioteca para criar gráficos dinâmicos \n",
        "import seaborn as sns # biblioteca para gráficos \n",
        "import numpy as np #funções matemáticas de alto nível \n",
        "\n"
      ],
      "execution_count": 1,
      "outputs": []
    },
    {
      "cell_type": "markdown",
      "metadata": {
        "id": "vAPQUdJCMUZV"
      },
      "source": [
        "\n",
        "Abrindo o arquivo conténdo os dados utilizados na regressão\n",
        "\n"
      ]
    },
    {
      "cell_type": "code",
      "metadata": {
        "id": "oqnNMFk1MPzr"
      },
      "source": [
        "base_custo_diaria = pd.read_csv('custo_diaria.csv', sep= ';')"
      ],
      "execution_count": 2,
      "outputs": []
    },
    {
      "cell_type": "code",
      "metadata": {
        "colab": {
          "base_uri": "https://localhost:8080/",
          "height": 206
        },
        "id": "yjUeCOWHMb4T",
        "outputId": "49ef576e-43ac-4bb0-b399-cb21a2bdd2c2"
      },
      "source": [
        "#visalizando arquivos da base de dados\n",
        "base_custo_diaria.head()"
      ],
      "execution_count": 3,
      "outputs": [
        {
          "output_type": "execute_result",
          "data": {
            "text/plain": [
              "   qtd_pessoas  valor_diaria\n",
              "0            1           150\n",
              "1            3           200\n",
              "2            4           650\n",
              "3            6           499\n",
              "4            7           549"
            ],
            "text/html": [
              "\n",
              "  <div id=\"df-fb1b8b00-5221-4dee-bc15-ed3c24e3bfbe\">\n",
              "    <div class=\"colab-df-container\">\n",
              "      <div>\n",
              "<style scoped>\n",
              "    .dataframe tbody tr th:only-of-type {\n",
              "        vertical-align: middle;\n",
              "    }\n",
              "\n",
              "    .dataframe tbody tr th {\n",
              "        vertical-align: top;\n",
              "    }\n",
              "\n",
              "    .dataframe thead th {\n",
              "        text-align: right;\n",
              "    }\n",
              "</style>\n",
              "<table border=\"1\" class=\"dataframe\">\n",
              "  <thead>\n",
              "    <tr style=\"text-align: right;\">\n",
              "      <th></th>\n",
              "      <th>qtd_pessoas</th>\n",
              "      <th>valor_diaria</th>\n",
              "    </tr>\n",
              "  </thead>\n",
              "  <tbody>\n",
              "    <tr>\n",
              "      <th>0</th>\n",
              "      <td>1</td>\n",
              "      <td>150</td>\n",
              "    </tr>\n",
              "    <tr>\n",
              "      <th>1</th>\n",
              "      <td>3</td>\n",
              "      <td>200</td>\n",
              "    </tr>\n",
              "    <tr>\n",
              "      <th>2</th>\n",
              "      <td>4</td>\n",
              "      <td>650</td>\n",
              "    </tr>\n",
              "    <tr>\n",
              "      <th>3</th>\n",
              "      <td>6</td>\n",
              "      <td>499</td>\n",
              "    </tr>\n",
              "    <tr>\n",
              "      <th>4</th>\n",
              "      <td>7</td>\n",
              "      <td>549</td>\n",
              "    </tr>\n",
              "  </tbody>\n",
              "</table>\n",
              "</div>\n",
              "      <button class=\"colab-df-convert\" onclick=\"convertToInteractive('df-fb1b8b00-5221-4dee-bc15-ed3c24e3bfbe')\"\n",
              "              title=\"Convert this dataframe to an interactive table.\"\n",
              "              style=\"display:none;\">\n",
              "        \n",
              "  <svg xmlns=\"http://www.w3.org/2000/svg\" height=\"24px\"viewBox=\"0 0 24 24\"\n",
              "       width=\"24px\">\n",
              "    <path d=\"M0 0h24v24H0V0z\" fill=\"none\"/>\n",
              "    <path d=\"M18.56 5.44l.94 2.06.94-2.06 2.06-.94-2.06-.94-.94-2.06-.94 2.06-2.06.94zm-11 1L8.5 8.5l.94-2.06 2.06-.94-2.06-.94L8.5 2.5l-.94 2.06-2.06.94zm10 10l.94 2.06.94-2.06 2.06-.94-2.06-.94-.94-2.06-.94 2.06-2.06.94z\"/><path d=\"M17.41 7.96l-1.37-1.37c-.4-.4-.92-.59-1.43-.59-.52 0-1.04.2-1.43.59L10.3 9.45l-7.72 7.72c-.78.78-.78 2.05 0 2.83L4 21.41c.39.39.9.59 1.41.59.51 0 1.02-.2 1.41-.59l7.78-7.78 2.81-2.81c.8-.78.8-2.07 0-2.86zM5.41 20L4 18.59l7.72-7.72 1.47 1.35L5.41 20z\"/>\n",
              "  </svg>\n",
              "      </button>\n",
              "      \n",
              "  <style>\n",
              "    .colab-df-container {\n",
              "      display:flex;\n",
              "      flex-wrap:wrap;\n",
              "      gap: 12px;\n",
              "    }\n",
              "\n",
              "    .colab-df-convert {\n",
              "      background-color: #E8F0FE;\n",
              "      border: none;\n",
              "      border-radius: 50%;\n",
              "      cursor: pointer;\n",
              "      display: none;\n",
              "      fill: #1967D2;\n",
              "      height: 32px;\n",
              "      padding: 0 0 0 0;\n",
              "      width: 32px;\n",
              "    }\n",
              "\n",
              "    .colab-df-convert:hover {\n",
              "      background-color: #E2EBFA;\n",
              "      box-shadow: 0px 1px 2px rgba(60, 64, 67, 0.3), 0px 1px 3px 1px rgba(60, 64, 67, 0.15);\n",
              "      fill: #174EA6;\n",
              "    }\n",
              "\n",
              "    [theme=dark] .colab-df-convert {\n",
              "      background-color: #3B4455;\n",
              "      fill: #D2E3FC;\n",
              "    }\n",
              "\n",
              "    [theme=dark] .colab-df-convert:hover {\n",
              "      background-color: #434B5C;\n",
              "      box-shadow: 0px 1px 3px 1px rgba(0, 0, 0, 0.15);\n",
              "      filter: drop-shadow(0px 1px 2px rgba(0, 0, 0, 0.3));\n",
              "      fill: #FFFFFF;\n",
              "    }\n",
              "  </style>\n",
              "\n",
              "      <script>\n",
              "        const buttonEl =\n",
              "          document.querySelector('#df-fb1b8b00-5221-4dee-bc15-ed3c24e3bfbe button.colab-df-convert');\n",
              "        buttonEl.style.display =\n",
              "          google.colab.kernel.accessAllowed ? 'block' : 'none';\n",
              "\n",
              "        async function convertToInteractive(key) {\n",
              "          const element = document.querySelector('#df-fb1b8b00-5221-4dee-bc15-ed3c24e3bfbe');\n",
              "          const dataTable =\n",
              "            await google.colab.kernel.invokeFunction('convertToInteractive',\n",
              "                                                     [key], {});\n",
              "          if (!dataTable) return;\n",
              "\n",
              "          const docLinkHtml = 'Like what you see? Visit the ' +\n",
              "            '<a target=\"_blank\" href=https://colab.research.google.com/notebooks/data_table.ipynb>data table notebook</a>'\n",
              "            + ' to learn more about interactive tables.';\n",
              "          element.innerHTML = '';\n",
              "          dataTable['output_type'] = 'display_data';\n",
              "          await google.colab.output.renderOutput(dataTable, element);\n",
              "          const docLink = document.createElement('div');\n",
              "          docLink.innerHTML = docLinkHtml;\n",
              "          element.appendChild(docLink);\n",
              "        }\n",
              "      </script>\n",
              "    </div>\n",
              "  </div>\n",
              "  "
            ]
          },
          "metadata": {},
          "execution_count": 3
        }
      ]
    },
    {
      "cell_type": "code",
      "metadata": {
        "colab": {
          "base_uri": "https://localhost:8080/",
          "height": 300
        },
        "id": "jp-152H-M-n0",
        "outputId": "8057656d-6187-4a6a-d283-7307adf1137d"
      },
      "source": [
        "# algumas estatisticas da base de dados \n",
        "base_custo_diaria.describe()"
      ],
      "execution_count": 4,
      "outputs": [
        {
          "output_type": "execute_result",
          "data": {
            "text/plain": [
              "       qtd_pessoas  valor_diaria\n",
              "count    30.000000     30.000000\n",
              "mean     28.600000   1648.633333\n",
              "std      18.189804    950.522197\n",
              "min       1.000000    150.000000\n",
              "25%      13.500000    869.250000\n",
              "50%      26.000000   1627.500000\n",
              "75%      44.500000   2497.000000\n",
              "max      60.000000   3300.000000"
            ],
            "text/html": [
              "\n",
              "  <div id=\"df-3ad03f70-8f6c-48f2-a2bc-47d0d9115c3f\">\n",
              "    <div class=\"colab-df-container\">\n",
              "      <div>\n",
              "<style scoped>\n",
              "    .dataframe tbody tr th:only-of-type {\n",
              "        vertical-align: middle;\n",
              "    }\n",
              "\n",
              "    .dataframe tbody tr th {\n",
              "        vertical-align: top;\n",
              "    }\n",
              "\n",
              "    .dataframe thead th {\n",
              "        text-align: right;\n",
              "    }\n",
              "</style>\n",
              "<table border=\"1\" class=\"dataframe\">\n",
              "  <thead>\n",
              "    <tr style=\"text-align: right;\">\n",
              "      <th></th>\n",
              "      <th>qtd_pessoas</th>\n",
              "      <th>valor_diaria</th>\n",
              "    </tr>\n",
              "  </thead>\n",
              "  <tbody>\n",
              "    <tr>\n",
              "      <th>count</th>\n",
              "      <td>30.000000</td>\n",
              "      <td>30.000000</td>\n",
              "    </tr>\n",
              "    <tr>\n",
              "      <th>mean</th>\n",
              "      <td>28.600000</td>\n",
              "      <td>1648.633333</td>\n",
              "    </tr>\n",
              "    <tr>\n",
              "      <th>std</th>\n",
              "      <td>18.189804</td>\n",
              "      <td>950.522197</td>\n",
              "    </tr>\n",
              "    <tr>\n",
              "      <th>min</th>\n",
              "      <td>1.000000</td>\n",
              "      <td>150.000000</td>\n",
              "    </tr>\n",
              "    <tr>\n",
              "      <th>25%</th>\n",
              "      <td>13.500000</td>\n",
              "      <td>869.250000</td>\n",
              "    </tr>\n",
              "    <tr>\n",
              "      <th>50%</th>\n",
              "      <td>26.000000</td>\n",
              "      <td>1627.500000</td>\n",
              "    </tr>\n",
              "    <tr>\n",
              "      <th>75%</th>\n",
              "      <td>44.500000</td>\n",
              "      <td>2497.000000</td>\n",
              "    </tr>\n",
              "    <tr>\n",
              "      <th>max</th>\n",
              "      <td>60.000000</td>\n",
              "      <td>3300.000000</td>\n",
              "    </tr>\n",
              "  </tbody>\n",
              "</table>\n",
              "</div>\n",
              "      <button class=\"colab-df-convert\" onclick=\"convertToInteractive('df-3ad03f70-8f6c-48f2-a2bc-47d0d9115c3f')\"\n",
              "              title=\"Convert this dataframe to an interactive table.\"\n",
              "              style=\"display:none;\">\n",
              "        \n",
              "  <svg xmlns=\"http://www.w3.org/2000/svg\" height=\"24px\"viewBox=\"0 0 24 24\"\n",
              "       width=\"24px\">\n",
              "    <path d=\"M0 0h24v24H0V0z\" fill=\"none\"/>\n",
              "    <path d=\"M18.56 5.44l.94 2.06.94-2.06 2.06-.94-2.06-.94-.94-2.06-.94 2.06-2.06.94zm-11 1L8.5 8.5l.94-2.06 2.06-.94-2.06-.94L8.5 2.5l-.94 2.06-2.06.94zm10 10l.94 2.06.94-2.06 2.06-.94-2.06-.94-.94-2.06-.94 2.06-2.06.94z\"/><path d=\"M17.41 7.96l-1.37-1.37c-.4-.4-.92-.59-1.43-.59-.52 0-1.04.2-1.43.59L10.3 9.45l-7.72 7.72c-.78.78-.78 2.05 0 2.83L4 21.41c.39.39.9.59 1.41.59.51 0 1.02-.2 1.41-.59l7.78-7.78 2.81-2.81c.8-.78.8-2.07 0-2.86zM5.41 20L4 18.59l7.72-7.72 1.47 1.35L5.41 20z\"/>\n",
              "  </svg>\n",
              "      </button>\n",
              "      \n",
              "  <style>\n",
              "    .colab-df-container {\n",
              "      display:flex;\n",
              "      flex-wrap:wrap;\n",
              "      gap: 12px;\n",
              "    }\n",
              "\n",
              "    .colab-df-convert {\n",
              "      background-color: #E8F0FE;\n",
              "      border: none;\n",
              "      border-radius: 50%;\n",
              "      cursor: pointer;\n",
              "      display: none;\n",
              "      fill: #1967D2;\n",
              "      height: 32px;\n",
              "      padding: 0 0 0 0;\n",
              "      width: 32px;\n",
              "    }\n",
              "\n",
              "    .colab-df-convert:hover {\n",
              "      background-color: #E2EBFA;\n",
              "      box-shadow: 0px 1px 2px rgba(60, 64, 67, 0.3), 0px 1px 3px 1px rgba(60, 64, 67, 0.15);\n",
              "      fill: #174EA6;\n",
              "    }\n",
              "\n",
              "    [theme=dark] .colab-df-convert {\n",
              "      background-color: #3B4455;\n",
              "      fill: #D2E3FC;\n",
              "    }\n",
              "\n",
              "    [theme=dark] .colab-df-convert:hover {\n",
              "      background-color: #434B5C;\n",
              "      box-shadow: 0px 1px 3px 1px rgba(0, 0, 0, 0.15);\n",
              "      filter: drop-shadow(0px 1px 2px rgba(0, 0, 0, 0.3));\n",
              "      fill: #FFFFFF;\n",
              "    }\n",
              "  </style>\n",
              "\n",
              "      <script>\n",
              "        const buttonEl =\n",
              "          document.querySelector('#df-3ad03f70-8f6c-48f2-a2bc-47d0d9115c3f button.colab-df-convert');\n",
              "        buttonEl.style.display =\n",
              "          google.colab.kernel.accessAllowed ? 'block' : 'none';\n",
              "\n",
              "        async function convertToInteractive(key) {\n",
              "          const element = document.querySelector('#df-3ad03f70-8f6c-48f2-a2bc-47d0d9115c3f');\n",
              "          const dataTable =\n",
              "            await google.colab.kernel.invokeFunction('convertToInteractive',\n",
              "                                                     [key], {});\n",
              "          if (!dataTable) return;\n",
              "\n",
              "          const docLinkHtml = 'Like what you see? Visit the ' +\n",
              "            '<a target=\"_blank\" href=https://colab.research.google.com/notebooks/data_table.ipynb>data table notebook</a>'\n",
              "            + ' to learn more about interactive tables.';\n",
              "          element.innerHTML = '';\n",
              "          dataTable['output_type'] = 'display_data';\n",
              "          await google.colab.output.renderOutput(dataTable, element);\n",
              "          const docLink = document.createElement('div');\n",
              "          docLink.innerHTML = docLinkHtml;\n",
              "          element.appendChild(docLink);\n",
              "        }\n",
              "      </script>\n",
              "    </div>\n",
              "  </div>\n",
              "  "
            ]
          },
          "metadata": {},
          "execution_count": 4
        }
      ]
    },
    {
      "cell_type": "markdown",
      "metadata": {
        "id": "sOwiiXDFNolL"
      },
      "source": [
        "Criando as variáveis que serão utilizadas no modelo"
      ]
    },
    {
      "cell_type": "code",
      "metadata": {
        "colab": {
          "base_uri": "https://localhost:8080/"
        },
        "id": "3CNNgfLUNgfr",
        "outputId": "3284c4ae-8c19-4962-d534-c046872c113d"
      },
      "source": [
        "# Criando variável independente  \n",
        "X_custo_diaria = base_custo_diaria.iloc[:,0].values #buscamos todos os registros da primeira coluna e convertemos no formato de array\n",
        "# o comando iloc permite selecionar um conjunto de registros. o dois pontos \":\" significa que estamos selecionando todos os regisros e zero \"0\" a primeira coluna\n",
        "X_custo_diaria"
      ],
      "execution_count": 5,
      "outputs": [
        {
          "output_type": "execute_result",
          "data": {
            "text/plain": [
              "array([ 1,  3,  4,  6,  7, 10, 12, 13, 15, 16, 20, 18, 22, 23, 25, 27, 30,\n",
              "       32, 33, 40, 42, 43, 45, 47, 50, 51, 52, 53, 58, 60])"
            ]
          },
          "metadata": {},
          "execution_count": 5
        }
      ]
    },
    {
      "cell_type": "code",
      "metadata": {
        "colab": {
          "base_uri": "https://localhost:8080/"
        },
        "id": "M5UADnsFNtsh",
        "outputId": "ed52f2f3-e969-4be8-8e21-21ef895ebb45"
      },
      "source": [
        "#criando variável dependente (o que queremos predizer)\n",
        "y_custo_diaria = base_custo_diaria.iloc[:,1].values\n",
        "y_custo_diaria"
      ],
      "execution_count": 6,
      "outputs": [
        {
          "output_type": "execute_result",
          "data": {
            "text/plain": [
              "array([ 150,  200,  650,  499,  549,  980,  700,  735,  859,  900, 1100,\n",
              "        989, 1075, 1378, 1500, 1755, 1850, 2500, 2000, 1900, 2089, 2500,\n",
              "       2250, 2488, 2680, 2803, 2890, 3040, 3150, 3300])"
            ]
          },
          "metadata": {},
          "execution_count": 6
        }
      ]
    },
    {
      "cell_type": "code",
      "metadata": {
        "colab": {
          "base_uri": "https://localhost:8080/"
        },
        "id": "lf0_UndjPXNw",
        "outputId": "28af1977-6aae-4339-cb4d-041dc3c38751"
      },
      "source": [
        "np.corrcoef(X_custo_diaria,y_custo_diaria) # mostra uma matriz "
      ],
      "execution_count": 7,
      "outputs": [
        {
          "output_type": "execute_result",
          "data": {
            "text/plain": [
              "array([[1.        , 0.97866601],\n",
              "       [0.97866601, 1.        ]])"
            ]
          },
          "metadata": {},
          "execution_count": 7
        }
      ]
    },
    {
      "cell_type": "markdown",
      "metadata": {
        "id": "IQL0IM2MOukQ"
      },
      "source": [
        "# Correlação\n",
        "\n",
        "Correlação positiva: quando duas variáveis que possuem correlação crescem ou decrescem juntas, ou seja, que possuem uma relação direta;\n",
        "\n",
        "Correlação negativa: quando duas variáveis que possuem correlação mas quando uma variável cresce a outra decresce, ou vice-versa;\n",
        "\n",
        "Não ter correlação: quando o crescimento ou decrescimento de uma variável não tem efeito sobre outra variável.\n",
        "\n"
      ]
    },
    {
      "cell_type": "code",
      "metadata": {
        "colab": {
          "base_uri": "https://localhost:8080/",
          "height": 287
        },
        "id": "mKR-an5nP-xV",
        "outputId": "3ef46225-3890-407c-97fe-d690763a86f3"
      },
      "source": [
        "correlation = base_custo_diaria.corr()\n",
        "# plot da matriz de correlação\n",
        "plot = sns.heatmap(correlation, annot = True,  linewidths=.3)\n",
        "plot"
      ],
      "execution_count": 8,
      "outputs": [
        {
          "output_type": "execute_result",
          "data": {
            "text/plain": [
              "<matplotlib.axes._subplots.AxesSubplot at 0x7ff3a3f7ca90>"
            ]
          },
          "metadata": {},
          "execution_count": 8
        },
        {
          "output_type": "display_data",
          "data": {
            "text/plain": [
              "<Figure size 432x288 with 2 Axes>"
            ],
            "image/png": "[encoded data removed]"
          },
          "metadata": {
            "needs_background": "light"
          }
        }
      ]
    },
    {
      "cell_type": "markdown",
      "metadata": {
        "id": "H_x7_DJCRcdR"
      },
      "source": [
        "Perceba que temos uma correlçao forte positiva. Pois a medida que a quantidade de pessoas aumenta o preço da diária também aumenta. \n",
        "Além disso, podemos dizer que em 99% do valor cobrado pelas diárias pode ser explicado pela quantidade de pessoas alugando o imóvel.\n"
      ]
    },
    {
      "cell_type": "markdown",
      "metadata": {
        "id": "lYC3MnggPMNR"
      },
      "source": [
        "#Tratando os dados para o modelo\n",
        "Nesse passo vamos realizar transformações nos dados. Essa transformação deve ser feita para que os dados possam ter o formato que o algoritmo solicitada como entrada. "
      ]
    },
    {
      "cell_type": "code",
      "metadata": {
        "colab": {
          "base_uri": "https://localhost:8080/"
        },
        "id": "2ThpBvMsQo4F",
        "outputId": "8fdd58d1-4d84-4844-e5dc-100b6c267df3"
      },
      "source": [
        "#vizualiar o formato da variável\n",
        "X_custo_diaria.shape # "
      ],
      "execution_count": 9,
      "outputs": [
        {
          "output_type": "execute_result",
          "data": {
            "text/plain": [
              "(30,)"
            ]
          },
          "metadata": {},
          "execution_count": 9
        }
      ]
    },
    {
      "cell_type": "code",
      "metadata": {
        "colab": {
          "base_uri": "https://localhost:8080/"
        },
        "id": "sZR3c3h0QD3I",
        "outputId": "6ee1a8fe-6017-48bd-a971-e2e4276c3199"
      },
      "source": [
        "#visualizando variável\n",
        "X_custo_diaria # o resultado mostra que temos uma array com apenas uma coluna/dimensão. NO entanto, precisamos ter uma matriz com 2 colunas"
      ],
      "execution_count": 10,
      "outputs": [
        {
          "output_type": "execute_result",
          "data": {
            "text/plain": [
              "array([ 1,  3,  4,  6,  7, 10, 12, 13, 15, 16, 20, 18, 22, 23, 25, 27, 30,\n",
              "       32, 33, 40, 42, 43, 45, 47, 50, 51, 52, 53, 58, 60])"
            ]
          },
          "metadata": {},
          "execution_count": 10
        }
      ]
    },
    {
      "cell_type": "code",
      "metadata": {
        "colab": {
          "base_uri": "https://localhost:8080/"
        },
        "id": "YuBwaEXdQIB3",
        "outputId": "8b6b10a3-b643-456c-9087-e86d10f3949f"
      },
      "source": [
        "X_custo_diaria = X_custo_diaria.reshape(-1,1)\n",
        "X_custo_diaria"
      ],
      "execution_count": 11,
      "outputs": [
        {
          "output_type": "execute_result",
          "data": {
            "text/plain": [
              "array([[ 1],\n",
              "       [ 3],\n",
              "       [ 4],\n",
              "       [ 6],\n",
              "       [ 7],\n",
              "       [10],\n",
              "       [12],\n",
              "       [13],\n",
              "       [15],\n",
              "       [16],\n",
              "       [20],\n",
              "       [18],\n",
              "       [22],\n",
              "       [23],\n",
              "       [25],\n",
              "       [27],\n",
              "       [30],\n",
              "       [32],\n",
              "       [33],\n",
              "       [40],\n",
              "       [42],\n",
              "       [43],\n",
              "       [45],\n",
              "       [47],\n",
              "       [50],\n",
              "       [51],\n",
              "       [52],\n",
              "       [53],\n",
              "       [58],\n",
              "       [60]])"
            ]
          },
          "metadata": {},
          "execution_count": 11
        }
      ]
    },
    {
      "cell_type": "code",
      "metadata": {
        "colab": {
          "base_uri": "https://localhost:8080/"
        },
        "id": "m2ct07-0QinG",
        "outputId": "2a9261c2-d9b7-4bbf-a403-6ccb18369b80"
      },
      "source": [
        "# Agora nós temos uma matriz com duas colunas. 10 linhas e uma coluna\n",
        "X_custo_diaria.shape "
      ],
      "execution_count": 12,
      "outputs": [
        {
          "output_type": "execute_result",
          "data": {
            "text/plain": [
              "(30, 1)"
            ]
          },
          "metadata": {},
          "execution_count": 12
        }
      ]
    },
    {
      "cell_type": "markdown",
      "metadata": {
        "id": "Lv7O8qzPQ4f3"
      },
      "source": [
        "# Aplicando os dados ao algoritmo de machine de regressão"
      ]
    },
    {
      "cell_type": "code",
      "metadata": {
        "id": "hgRv7-TWQu5N"
      },
      "source": [
        "from sklearn.linear_model import LinearRegression\n",
        "# cria um objeto do tipo regressão linear\n",
        "previsao_custo_diaria = LinearRegression()"
      ],
      "execution_count": 13,
      "outputs": []
    },
    {
      "cell_type": "code",
      "metadata": {
        "colab": {
          "base_uri": "https://localhost:8080/"
        },
        "id": "wOwRko3WRhNT",
        "outputId": "61ab24fc-7a45-45b5-894e-7e0712e29fce"
      },
      "source": [
        "type(previsao_custo_diaria)"
      ],
      "execution_count": 14,
      "outputs": [
        {
          "output_type": "execute_result",
          "data": {
            "text/plain": [
              "sklearn.linear_model._base.LinearRegression"
            ]
          },
          "metadata": {},
          "execution_count": 14
        }
      ]
    },
    {
      "cell_type": "markdown",
      "metadata": {
        "id": "TWGVKh4DRtag"
      },
      "source": [
        "# Realizando o Treinamento do modelo"
      ]
    },
    {
      "cell_type": "code",
      "metadata": {
        "colab": {
          "base_uri": "https://localhost:8080/"
        },
        "id": "rUhDo6AZRtBX",
        "outputId": "aedb9512-351c-4b35-a47f-723bbadd6a36"
      },
      "source": [
        "previsao_custo_diaria.fit(X_custo_diaria, y_custo_diaria)"
      ],
      "execution_count": 15,
      "outputs": [
        {
          "output_type": "execute_result",
          "data": {
            "text/plain": [
              "LinearRegression()"
            ]
          },
          "metadata": {},
          "execution_count": 15
        }
      ]
    },
    {
      "cell_type": "code",
      "metadata": {
        "colab": {
          "base_uri": "https://localhost:8080/"
        },
        "id": "I_cvXee7R30c",
        "outputId": "b9a255bc-fac2-489b-dc7c-7cf34936a745"
      },
      "source": [
        "# Verfificando a interceptação  \n",
        "previsao_custo_diaria.intercept_\n"
      ],
      "execution_count": 16,
      "outputs": [
        {
          "output_type": "execute_result",
          "data": {
            "text/plain": [
              "186.00229281307384"
            ]
          },
          "metadata": {},
          "execution_count": 16
        }
      ]
    },
    {
      "cell_type": "code",
      "metadata": {
        "colab": {
          "base_uri": "https://localhost:8080/"
        },
        "id": "3S-o7mMHSmyK",
        "outputId": "6cdbc4cf-3660-41cc-ddb8-03725ee4fad4"
      },
      "source": [
        "#Verificando o coeficiente angular da reta\n",
        "previsao_custo_diaria.coef_"
      ],
      "execution_count": 17,
      "outputs": [
        {
          "output_type": "execute_result",
          "data": {
            "text/plain": [
              "array([51.14094547])"
            ]
          },
          "metadata": {},
          "execution_count": 17
        }
      ]
    },
    {
      "cell_type": "markdown",
      "metadata": {
        "id": "j_94xK-PUjnU"
      },
      "source": [
        "![image.png](data:image/png;base64,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)"
      ]
    },
    {
      "cell_type": "code",
      "metadata": {
        "id": "OLGMJDxHUMmz"
      },
      "source": [
        "previsao_precos = previsao_custo_diaria.predict(X_custo_diaria)# baseado nos valores de nº de pessoas, vamos estimar/prever o custo do imóvel alugado"
      ],
      "execution_count": 18,
      "outputs": []
    },
    {
      "cell_type": "code",
      "metadata": {
        "colab": {
          "base_uri": "https://localhost:8080/"
        },
        "id": "eySREg0EUVyI",
        "outputId": "426b004a-793c-442d-82b1-48a899ec958e"
      },
      "source": [
        "#visualiza das previsões para cada nª de pessoas\n",
        "previsao_precos"
      ],
      "execution_count": 19,
      "outputs": [
        {
          "output_type": "execute_result",
          "data": {
            "text/plain": [
              "array([ 237.14323829,  339.42512923,  390.5660747 ,  492.84796565,\n",
              "        543.98891112,  697.41174754,  799.69363849,  850.83458396,\n",
              "        953.1164749 , 1004.25742038, 1208.82120227, 1106.53931132,\n",
              "       1311.10309321, 1362.24403869, 1464.52592963, 1566.80782058,\n",
              "       1720.230657  , 1822.51254794, 1873.65349341, 2231.64011172,\n",
              "       2333.92200267, 2385.06294814, 2487.34483909, 2589.62673003,\n",
              "       2743.04956645, 2794.19051192, 2845.3314574 , 2896.47240287,\n",
              "       3152.17713023, 3254.45902118])"
            ]
          },
          "metadata": {},
          "execution_count": 19
        }
      ]
    },
    {
      "cell_type": "markdown",
      "metadata": {
        "id": "H9nbI0M9V7q0"
      },
      "source": [
        "# Visualizando no gráfico as disposições dos dados\n",
        "Para visualizar os dados no grafico, temos que transformar os valores das variáveis para o formato de vetor. Para isso utilizamos o comando ravel()"
      ]
    },
    {
      "cell_type": "code",
      "metadata": {
        "colab": {
          "base_uri": "https://localhost:8080/"
        },
        "id": "zuMEZUBlV2um",
        "outputId": "64c97a22-284e-40ea-8590-4fd576f46689"
      },
      "source": [
        "# Verificando tipo da variável X_custo_diaria\n",
        "X_custo_diaria"
      ],
      "execution_count": 20,
      "outputs": [
        {
          "output_type": "execute_result",
          "data": {
            "text/plain": [
              "array([[ 1],\n",
              "       [ 3],\n",
              "       [ 4],\n",
              "       [ 6],\n",
              "       [ 7],\n",
              "       [10],\n",
              "       [12],\n",
              "       [13],\n",
              "       [15],\n",
              "       [16],\n",
              "       [20],\n",
              "       [18],\n",
              "       [22],\n",
              "       [23],\n",
              "       [25],\n",
              "       [27],\n",
              "       [30],\n",
              "       [32],\n",
              "       [33],\n",
              "       [40],\n",
              "       [42],\n",
              "       [43],\n",
              "       [45],\n",
              "       [47],\n",
              "       [50],\n",
              "       [51],\n",
              "       [52],\n",
              "       [53],\n",
              "       [58],\n",
              "       [60]])"
            ]
          },
          "metadata": {},
          "execution_count": 20
        }
      ]
    },
    {
      "cell_type": "code",
      "metadata": {
        "colab": {
          "base_uri": "https://localhost:8080/"
        },
        "id": "OGazBNP6WBGm",
        "outputId": "1e9a097d-9c1b-49ec-d738-06b1080eb295"
      },
      "source": [
        "X_custo_diaria.ravel() # transforma em um vetor"
      ],
      "execution_count": 21,
      "outputs": [
        {
          "output_type": "execute_result",
          "data": {
            "text/plain": [
              "array([ 1,  3,  4,  6,  7, 10, 12, 13, 15, 16, 20, 18, 22, 23, 25, 27, 30,\n",
              "       32, 33, 40, 42, 43, 45, 47, 50, 51, 52, 53, 58, 60])"
            ]
          },
          "metadata": {},
          "execution_count": 21
        }
      ]
    },
    {
      "cell_type": "code",
      "metadata": {
        "colab": {
          "base_uri": "https://localhost:8080/"
        },
        "id": "P4rvo0dcXAdv",
        "outputId": "efbcc23b-b372-43b5-fed0-0b7a903835ef"
      },
      "source": [
        "y_custo_diaria"
      ],
      "execution_count": 22,
      "outputs": [
        {
          "output_type": "execute_result",
          "data": {
            "text/plain": [
              "array([ 150,  200,  650,  499,  549,  980,  700,  735,  859,  900, 1100,\n",
              "        989, 1075, 1378, 1500, 1755, 1850, 2500, 2000, 1900, 2089, 2500,\n",
              "       2250, 2488, 2680, 2803, 2890, 3040, 3150, 3300])"
            ]
          },
          "metadata": {},
          "execution_count": 22
        }
      ]
    },
    {
      "cell_type": "code",
      "metadata": {
        "colab": {
          "base_uri": "https://localhost:8080/",
          "height": 542
        },
        "id": "EY7CNDr5WkL9",
        "outputId": "aa72829d-7e30-43c4-b007-9d088cd0c64e"
      },
      "source": [
        "grafico = px.scatter(x = X_custo_diaria.ravel(), y = y_custo_diaria)\n",
        "grafico.show()"
      ],
      "execution_count": 23,
      "outputs": [
        {
          "output_type": "display_data",
          "data": {
            "text/html": [
              "<html>\n",
              "<head><meta charset=\"utf-8\" /></head>\n",
              "<body>\n",
              "    <div>            <script src=\"https://cdnjs.cloudflare.com/ajax/libs/mathjax/2.7.5/MathJax.js?config=TeX-AMS-MML_SVG\"></script><script type=\"text/javascript\">if (window.MathJax) {MathJax.Hub.Config({SVG: {font: \"STIX-Web\"}});}</script>                <script type=\"text/javascript\">window.PlotlyConfig = {MathJaxConfig: 'local'};</script>\n",
              "        <script src=\"https://cdn.plot.ly/plotly-2.8.3.min.js\"></script>                <div id=\"a2eaea7f-8a4a-4e51-a2fc-d587a8268834\" class=\"plotly-graph-div\" style=\"height:525px; width:100%;\"></div>            <script type=\"text/javascript\">                                    window.PLOTLYENV=window.PLOTLYENV || {};                                    if (document.getElementById(\"a2eaea7f-8a4a-4e51-a2fc-d587a8268834\")) {                    Plotly.newPlot(                        \"a2eaea7f-8a4a-4e51-a2fc-d587a8268834\",                        [{\"hovertemplate\":\"x=%{x}<br>y=%{y}<extra></extra>\",\"legendgroup\":\"\",\"marker\":{\"color\":\"#636efa\",\"symbol\":\"circle\"},\"mode\":\"markers\",\"name\":\"\",\"orientation\":\"v\",\"showlegend\":false,\"x\":[1,3,4,6,7,10,12,13,15,16,20,18,22,23,25,27,30,32,33,40,42,43,45,47,50,51,52,53,58,60],\"xaxis\":\"x\",\"y\":[150,200,650,499,549,980,700,735,859,900,1100,989,1075,1378,1500,1755,1850,2500,2000,1900,2089,2500,2250,2488,2680,2803,2890,3040,3150,3300],\"yaxis\":\"y\",\"type\":\"scatter\"}],                        {\"template\":{\"data\":{\"bar\":[{\"error_x\":{\"color\":\"#2a3f5f\"},\"error_y\":{\"color\":\"#2a3f5f\"},\"marker\":{\"line\":{\"color\":\"#E5ECF6\",\"width\":0.5},\"pattern\":{\"fillmode\":\"overlay\",\"size\":10,\"solidity\":0.2}},\"type\":\"bar\"}],\"barpolar\":[{\"marker\":{\"line\":{\"color\":\"#E5ECF6\",\"width\":0.5},\"pattern\":{\"fillmode\":\"overlay\",\"size\":10,\"solidity\":0.2}},\"type\":\"barpolar\"}],\"carpet\":[{\"aaxis\":{\"endlinecolor\":\"#2a3f5f\",\"gridcolor\":\"white\",\"linecolor\":\"white\",\"minorgridcolor\":\"white\",\"startlinecolor\":\"#2a3f5f\"},\"baxis\":{\"endlinecolor\":\"#2a3f5f\",\"gridcolor\":\"white\",\"linecolor\":\"white\",\"minorgridcolor\":\"white\",\"startlinecolor\":\"#2a3f5f\"},\"type\":\"carpet\"}],\"choropleth\":[{\"colorbar\":{\"outlinewidth\":0,\"ticks\":\"\"},\"type\":\"choropleth\"}],\"contour\":[{\"colorbar\":{\"outlinewidth\":0,\"ticks\":\"\"},\"colorscale\":[[0.0,\"#0d0887\"],[0.1111111111111111,\"#46039f\"],[0.2222222222222222,\"#7201a8\"],[0.3333333333333333,\"#9c179e\"],[0.4444444444444444,\"#bd3786\"],[0.5555555555555556,\"#d8576b\"],[0.6666666666666666,\"#ed7953\"],[0.7777777777777778,\"#fb9f3a\"],[0.8888888888888888,\"#fdca26\"],[1.0,\"#f0f921\"]],\"type\":\"contour\"}],\"contourcarpet\":[{\"colorbar\":{\"outlinewidth\":0,\"ticks\":\"\"},\"type\":\"contourcarpet\"}],\"heatmap\":[{\"colorbar\":{\"outlinewidth\":0,\"ticks\":\"\"},\"colorscale\":[[0.0,\"#0d0887\"],[0.1111111111111111,\"#46039f\"],[0.2222222222222222,\"#7201a8\"],[0.3333333333333333,\"#9c179e\"],[0.4444444444444444,\"#bd3786\"],[0.5555555555555556,\"#d8576b\"],[0.6666666666666666,\"#ed7953\"],[0.7777777777777778,\"#fb9f3a\"],[0.8888888888888888,\"#fdca26\"],[1.0,\"#f0f921\"]],\"type\":\"heatmap\"}],\"heatmapgl\":[{\"colorbar\":{\"outlinewidth\":0,\"ticks\":\"\"},\"colorscale\":[[0.0,\"#0d0887\"],[0.1111111111111111,\"#46039f\"],[0.2222222222222222,\"#7201a8\"],[0.3333333333333333,\"#9c179e\"],[0.4444444444444444,\"#bd3786\"],[0.5555555555555556,\"#d8576b\"],[0.6666666666666666,\"#ed7953\"],[0.7777777777777778,\"#fb9f3a\"],[0.8888888888888888,\"#fdca26\"],[1.0,\"#f0f921\"]],\"type\":\"heatmapgl\"}],\"histogram\":[{\"marker\":{\"pattern\":{\"fillmode\":\"overlay\",\"size\":10,\"solidity\":0.2}},\"type\":\"histogram\"}],\"histogram2d\":[{\"colorbar\":{\"outlinewidth\":0,\"ticks\":\"\"},\"colorscale\":[[0.0,\"#0d0887\"],[0.1111111111111111,\"#46039f\"],[0.2222222222222222,\"#7201a8\"],[0.3333333333333333,\"#9c179e\"],[0.4444444444444444,\"#bd3786\"],[0.5555555555555556,\"#d8576b\"],[0.6666666666666666,\"#ed7953\"],[0.7777777777777778,\"#fb9f3a\"],[0.8888888888888888,\"#fdca26\"],[1.0,\"#f0f921\"]],\"type\":\"histogram2d\"}],\"histogram2dcontour\":[{\"colorbar\":{\"outlinewidth\":0,\"ticks\":\"\"},\"colorscale\":[[0.0,\"#0d0887\"],[0.1111111111111111,\"#46039f\"],[0.2222222222222222,\"#7201a8\"],[0.3333333333333333,\"#9c179e\"],[0.4444444444444444,\"#bd3786\"],[0.5555555555555556,\"#d8576b\"],[0.6666666666666666,\"#ed7953\"],[0.7777777777777778,\"#fb9f3a\"],[0.8888888888888888,\"#fdca26\"],[1.0,\"#f0f921\"]],\"type\":\"histogram2dcontour\"}],\"mesh3d\":[{\"colorbar\":{\"outlinewidth\":0,\"ticks\":\"\"},\"type\":\"mesh3d\"}],\"parcoords\":[{\"line\":{\"colorbar\":{\"outlinewidth\":0,\"ticks\":\"\"}},\"type\":\"parcoords\"}],\"pie\":[{\"automargin\":true,\"type\":\"pie\"}],\"scatter\":[{\"marker\":{\"colorbar\":{\"outlinewidth\":0,\"ticks\":\"\"}},\"type\":\"scatter\"}],\"scatter3d\":[{\"line\":{\"colorbar\":{\"outlinewidth\":0,\"ticks\":\"\"}},\"marker\":{\"colorbar\":{\"outlinewidth\":0,\"ticks\":\"\"}},\"type\":\"scatter3d\"}],\"scattercarpet\":[{\"marker\":{\"colorbar\":{\"outlinewidth\":0,\"ticks\":\"\"}},\"type\":\"scattercarpet\"}],\"scattergeo\":[{\"marker\":{\"colorbar\":{\"outlinewidth\":0,\"ticks\":\"\"}},\"type\":\"scattergeo\"}],\"scattergl\":[{\"marker\":{\"colorbar\":{\"outlinewidth\":0,\"ticks\":\"\"}},\"type\":\"scattergl\"}],\"scattermapbox\":[{\"marker\":{\"colorbar\":{\"outlinewidth\":0,\"ticks\":\"\"}},\"type\":\"scattermapbox\"}],\"scatterpolar\":[{\"marker\":{\"colorbar\":{\"outlinewidth\":0,\"ticks\":\"\"}},\"type\":\"scatterpolar\"}],\"scatterpolargl\":[{\"marker\":{\"colorbar\":{\"outlinewidth\":0,\"ticks\":\"\"}},\"type\":\"scatterpolargl\"}],\"scatterternary\":[{\"marker\":{\"colorbar\":{\"outlinewidth\":0,\"ticks\":\"\"}},\"type\":\"scatterternary\"}],\"surface\":[{\"colorbar\":{\"outlinewidth\":0,\"ticks\":\"\"},\"colorscale\":[[0.0,\"#0d0887\"],[0.1111111111111111,\"#46039f\"],[0.2222222222222222,\"#7201a8\"],[0.3333333333333333,\"#9c179e\"],[0.4444444444444444,\"#bd3786\"],[0.5555555555555556,\"#d8576b\"],[0.6666666666666666,\"#ed7953\"],[0.7777777777777778,\"#fb9f3a\"],[0.8888888888888888,\"#fdca26\"],[1.0,\"#f0f921\"]],\"type\":\"surface\"}],\"table\":[{\"cells\":{\"fill\":{\"color\":\"#EBF0F8\"},\"line\":{\"color\":\"white\"}},\"header\":{\"fill\":{\"color\":\"#C8D4E3\"},\"line\":{\"color\":\"white\"}},\"type\":\"table\"}]},\"layout\":{\"annotationdefaults\":{\"arrowcolor\":\"#2a3f5f\",\"arrowhead\":0,\"arrowwidth\":1},\"autotypenumbers\":\"strict\",\"coloraxis\":{\"colorbar\":{\"outlinewidth\":0,\"ticks\":\"\"}},\"colorscale\":{\"diverging\":[[0,\"#8e0152\"],[0.1,\"#c51b7d\"],[0.2,\"#de77ae\"],[0.3,\"#f1b6da\"],[0.4,\"#fde0ef\"],[0.5,\"#f7f7f7\"],[0.6,\"#e6f5d0\"],[0.7,\"#b8e186\"],[0.8,\"#7fbc41\"],[0.9,\"#4d9221\"],[1,\"#276419\"]],\"sequential\":[[0.0,\"#0d0887\"],[0.1111111111111111,\"#46039f\"],[0.2222222222222222,\"#7201a8\"],[0.3333333333333333,\"#9c179e\"],[0.4444444444444444,\"#bd3786\"],[0.5555555555555556,\"#d8576b\"],[0.6666666666666666,\"#ed7953\"],[0.7777777777777778,\"#fb9f3a\"],[0.8888888888888888,\"#fdca26\"],[1.0,\"#f0f921\"]],\"sequentialminus\":[[0.0,\"#0d0887\"],[0.1111111111111111,\"#46039f\"],[0.2222222222222222,\"#7201a8\"],[0.3333333333333333,\"#9c179e\"],[0.4444444444444444,\"#bd3786\"],[0.5555555555555556,\"#d8576b\"],[0.6666666666666666,\"#ed7953\"],[0.7777777777777778,\"#fb9f3a\"],[0.8888888888888888,\"#fdca26\"],[1.0,\"#f0f921\"]]},\"colorway\":[\"#636efa\",\"#EF553B\",\"#00cc96\",\"#ab63fa\",\"#FFA15A\",\"#19d3f3\",\"#FF6692\",\"#B6E880\",\"#FF97FF\",\"#FECB52\"],\"font\":{\"color\":\"#2a3f5f\"},\"geo\":{\"bgcolor\":\"white\",\"lakecolor\":\"white\",\"landcolor\":\"#E5ECF6\",\"showlakes\":true,\"showland\":true,\"subunitcolor\":\"white\"},\"hoverlabel\":{\"align\":\"left\"},\"hovermode\":\"closest\",\"mapbox\":{\"style\":\"light\"},\"paper_bgcolor\":\"white\",\"plot_bgcolor\":\"#E5ECF6\",\"polar\":{\"angularaxis\":{\"gridcolor\":\"white\",\"linecolor\":\"white\",\"ticks\":\"\"},\"bgcolor\":\"#E5ECF6\",\"radialaxis\":{\"gridcolor\":\"white\",\"linecolor\":\"white\",\"ticks\":\"\"}},\"scene\":{\"xaxis\":{\"backgroundcolor\":\"#E5ECF6\",\"gridcolor\":\"white\",\"gridwidth\":2,\"linecolor\":\"white\",\"showbackground\":true,\"ticks\":\"\",\"zerolinecolor\":\"white\"},\"yaxis\":{\"backgroundcolor\":\"#E5ECF6\",\"gridcolor\":\"white\",\"gridwidth\":2,\"linecolor\":\"white\",\"showbackground\":true,\"ticks\":\"\",\"zerolinecolor\":\"white\"},\"zaxis\":{\"backgroundcolor\":\"#E5ECF6\",\"gridcolor\":\"white\",\"gridwidth\":2,\"linecolor\":\"white\",\"showbackground\":true,\"ticks\":\"\",\"zerolinecolor\":\"white\"}},\"shapedefaults\":{\"line\":{\"color\":\"#2a3f5f\"}},\"ternary\":{\"aaxis\":{\"gridcolor\":\"white\",\"linecolor\":\"white\",\"ticks\":\"\"},\"baxis\":{\"gridcolor\":\"white\",\"linecolor\":\"white\",\"ticks\":\"\"},\"bgcolor\":\"#E5ECF6\",\"caxis\":{\"gridcolor\":\"white\",\"linecolor\":\"white\",\"ticks\":\"\"}},\"title\":{\"x\":0.05},\"xaxis\":{\"automargin\":true,\"gridcolor\":\"white\",\"linecolor\":\"white\",\"ticks\":\"\",\"title\":{\"standoff\":15},\"zerolinecolor\":\"white\",\"zerolinewidth\":2},\"yaxis\":{\"automargin\":true,\"gridcolor\":\"white\",\"linecolor\":\"white\",\"ticks\":\"\",\"title\":{\"standoff\":15},\"zerolinecolor\":\"white\",\"zerolinewidth\":2}}},\"xaxis\":{\"anchor\":\"y\",\"domain\":[0.0,1.0],\"title\":{\"text\":\"x\"}},\"yaxis\":{\"anchor\":\"x\",\"domain\":[0.0,1.0],\"title\":{\"text\":\"y\"}},\"legend\":{\"tracegroupgap\":0},\"margin\":{\"t\":60}},                        {\"responsive\": true}                    ).then(function(){\n",
              "                            \n",
              "var gd = document.getElementById('a2eaea7f-8a4a-4e51-a2fc-d587a8268834');\n",
              "var x = new MutationObserver(function (mutations, observer) {{\n",
              "        var display = window.getComputedStyle(gd).display;\n",
              "        if (!display || display === 'none') {{\n",
              "            console.log([gd, 'removed!']);\n",
              "            Plotly.purge(gd);\n",
              "            observer.disconnect();\n",
              "        }}\n",
              "}});\n",
              "\n",
              "// Listen for the removal of the full notebook cells\n",
              "var notebookContainer = gd.closest('#notebook-container');\n",
              "if (notebookContainer) {{\n",
              "    x.observe(notebookContainer, {childList: true});\n",
              "}}\n",
              "\n",
              "// Listen for the clearing of the current output cell\n",
              "var outputEl = gd.closest('.output');\n",
              "if (outputEl) {{\n",
              "    x.observe(outputEl, {childList: true});\n",
              "}}\n",
              "\n",
              "                        })                };                            </script>        </div>\n",
              "</body>\n",
              "</html>"
            ]
          },
          "metadata": {}
        }
      ]
    },
    {
      "cell_type": "code",
      "metadata": {
        "colab": {
          "base_uri": "https://localhost:8080/",
          "height": 542
        },
        "id": "3iXzofZjW42M",
        "outputId": "980b29de-04e2-41db-eec9-26df5f018120"
      },
      "source": [
        "grafico = px.scatter(x = X_custo_diaria.ravel(), y = y_custo_diaria)\n",
        "grafico.add_scatter(x = X_custo_diaria.ravel(), y = previsao_precos, name= 'previsões')\n",
        "grafico.show()"
      ],
      "execution_count": 24,
      "outputs": [
        {
          "output_type": "display_data",
          "data": {
            "text/html": [
              "<html>\n",
              "<head><meta charset=\"utf-8\" /></head>\n",
              "<body>\n",
              "    <div>            <script src=\"https://cdnjs.cloudflare.com/ajax/libs/mathjax/2.7.5/MathJax.js?config=TeX-AMS-MML_SVG\"></script><script type=\"text/javascript\">if (window.MathJax) {MathJax.Hub.Config({SVG: {font: \"STIX-Web\"}});}</script>                <script type=\"text/javascript\">window.PlotlyConfig = {MathJaxConfig: 'local'};</script>\n",
              "        <script src=\"https://cdn.plot.ly/plotly-2.8.3.min.js\"></script>                <div id=\"795aabab-2749-4550-bbb5-5eb2e470ea1c\" class=\"plotly-graph-div\" style=\"height:525px; width:100%;\"></div>            <script type=\"text/javascript\">                                    window.PLOTLYENV=window.PLOTLYENV || {};                                    if (document.getElementById(\"795aabab-2749-4550-bbb5-5eb2e470ea1c\")) {                    Plotly.newPlot(                        \"795aabab-2749-4550-bbb5-5eb2e470ea1c\",                        [{\"hovertemplate\":\"x=%{x}<br>y=%{y}<extra></extra>\",\"legendgroup\":\"\",\"marker\":{\"color\":\"#636efa\",\"symbol\":\"circle\"},\"mode\":\"markers\",\"name\":\"\",\"orientation\":\"v\",\"showlegend\":false,\"x\":[1,3,4,6,7,10,12,13,15,16,20,18,22,23,25,27,30,32,33,40,42,43,45,47,50,51,52,53,58,60],\"xaxis\":\"x\",\"y\":[150,200,650,499,549,980,700,735,859,900,1100,989,1075,1378,1500,1755,1850,2500,2000,1900,2089,2500,2250,2488,2680,2803,2890,3040,3150,3300],\"yaxis\":\"y\",\"type\":\"scatter\"},{\"name\":\"previs\\u00f5es\",\"x\":[1,3,4,6,7,10,12,13,15,16,20,18,22,23,25,27,30,32,33,40,42,43,45,47,50,51,52,53,58,60],\"y\":[237.14323828581018,339.4251292312829,390.56607470401923,492.8479656494919,543.9889111222283,697.4117475404373,799.69363848591,850.8345839586464,953.1164749041191,1004.2574203768554,1208.8212022678008,1106.539311322328,1311.1030932132735,1362.2440386860098,1464.5259296314825,1566.8078205769552,1720.2306569951643,1822.512547940637,1873.6534934133733,2231.6401117225278,2333.9220026680005,2385.062948140737,2487.3448390862095,2589.626730031682,2743.0495664498912,2794.1905119226276,2845.331457395364,2896.4724028681003,3152.177130231782,3254.4590211772547],\"type\":\"scatter\"}],                        {\"template\":{\"data\":{\"bar\":[{\"error_x\":{\"color\":\"#2a3f5f\"},\"error_y\":{\"color\":\"#2a3f5f\"},\"marker\":{\"line\":{\"color\":\"#E5ECF6\",\"width\":0.5},\"pattern\":{\"fillmode\":\"overlay\",\"size\":10,\"solidity\":0.2}},\"type\":\"bar\"}],\"barpolar\":[{\"marker\":{\"line\":{\"color\":\"#E5ECF6\",\"width\":0.5},\"pattern\":{\"fillmode\":\"overlay\",\"size\":10,\"solidity\":0.2}},\"type\":\"barpolar\"}],\"carpet\":[{\"aaxis\":{\"endlinecolor\":\"#2a3f5f\",\"gridcolor\":\"white\",\"linecolor\":\"white\",\"minorgridcolor\":\"white\",\"startlinecolor\":\"#2a3f5f\"},\"baxis\":{\"endlinecolor\":\"#2a3f5f\",\"gridcolor\":\"white\",\"linecolor\":\"white\",\"minorgridcolor\":\"white\",\"startlinecolor\":\"#2a3f5f\"},\"type\":\"carpet\"}],\"choropleth\":[{\"colorbar\":{\"outlinewidth\":0,\"ticks\":\"\"},\"type\":\"choropleth\"}],\"contour\":[{\"colorbar\":{\"outlinewidth\":0,\"ticks\":\"\"},\"colorscale\":[[0.0,\"#0d0887\"],[0.1111111111111111,\"#46039f\"],[0.2222222222222222,\"#7201a8\"],[0.3333333333333333,\"#9c179e\"],[0.4444444444444444,\"#bd3786\"],[0.5555555555555556,\"#d8576b\"],[0.6666666666666666,\"#ed7953\"],[0.7777777777777778,\"#fb9f3a\"],[0.8888888888888888,\"#fdca26\"],[1.0,\"#f0f921\"]],\"type\":\"contour\"}],\"contourcarpet\":[{\"colorbar\":{\"outlinewidth\":0,\"ticks\":\"\"},\"type\":\"contourcarpet\"}],\"heatmap\":[{\"colorbar\":{\"outlinewidth\":0,\"ticks\":\"\"},\"colorscale\":[[0.0,\"#0d0887\"],[0.1111111111111111,\"#46039f\"],[0.2222222222222222,\"#7201a8\"],[0.3333333333333333,\"#9c179e\"],[0.4444444444444444,\"#bd3786\"],[0.5555555555555556,\"#d8576b\"],[0.6666666666666666,\"#ed7953\"],[0.7777777777777778,\"#fb9f3a\"],[0.8888888888888888,\"#fdca26\"],[1.0,\"#f0f921\"]],\"type\":\"heatmap\"}],\"heatmapgl\":[{\"colorbar\":{\"outlinewidth\":0,\"ticks\":\"\"},\"colorscale\":[[0.0,\"#0d0887\"],[0.1111111111111111,\"#46039f\"],[0.2222222222222222,\"#7201a8\"],[0.3333333333333333,\"#9c179e\"],[0.4444444444444444,\"#bd3786\"],[0.5555555555555556,\"#d8576b\"],[0.6666666666666666,\"#ed7953\"],[0.7777777777777778,\"#fb9f3a\"],[0.8888888888888888,\"#fdca26\"],[1.0,\"#f0f921\"]],\"type\":\"heatmapgl\"}],\"histogram\":[{\"marker\":{\"pattern\":{\"fillmode\":\"overlay\",\"size\":10,\"solidity\":0.2}},\"type\":\"histogram\"}],\"histogram2d\":[{\"colorbar\":{\"outlinewidth\":0,\"ticks\":\"\"},\"colorscale\":[[0.0,\"#0d0887\"],[0.1111111111111111,\"#46039f\"],[0.2222222222222222,\"#7201a8\"],[0.3333333333333333,\"#9c179e\"],[0.4444444444444444,\"#bd3786\"],[0.5555555555555556,\"#d8576b\"],[0.6666666666666666,\"#ed7953\"],[0.7777777777777778,\"#fb9f3a\"],[0.8888888888888888,\"#fdca26\"],[1.0,\"#f0f921\"]],\"type\":\"histogram2d\"}],\"histogram2dcontour\":[{\"colorbar\":{\"outlinewidth\":0,\"ticks\":\"\"},\"colorscale\":[[0.0,\"#0d0887\"],[0.1111111111111111,\"#46039f\"],[0.2222222222222222,\"#7201a8\"],[0.3333333333333333,\"#9c179e\"],[0.4444444444444444,\"#bd3786\"],[0.5555555555555556,\"#d8576b\"],[0.6666666666666666,\"#ed7953\"],[0.7777777777777778,\"#fb9f3a\"],[0.8888888888888888,\"#fdca26\"],[1.0,\"#f0f921\"]],\"type\":\"histogram2dcontour\"}],\"mesh3d\":[{\"colorbar\":{\"outlinewidth\":0,\"ticks\":\"\"},\"type\":\"mesh3d\"}],\"parcoords\":[{\"line\":{\"colorbar\":{\"outlinewidth\":0,\"ticks\":\"\"}},\"type\":\"parcoords\"}],\"pie\":[{\"automargin\":true,\"type\":\"pie\"}],\"scatter\":[{\"marker\":{\"colorbar\":{\"outlinewidth\":0,\"ticks\":\"\"}},\"type\":\"scatter\"}],\"scatter3d\":[{\"line\":{\"colorbar\":{\"outlinewidth\":0,\"ticks\":\"\"}},\"marker\":{\"colorbar\":{\"outlinewidth\":0,\"ticks\":\"\"}},\"type\":\"scatter3d\"}],\"scattercarpet\":[{\"marker\":{\"colorbar\":{\"outlinewidth\":0,\"ticks\":\"\"}},\"type\":\"scattercarpet\"}],\"scattergeo\":[{\"marker\":{\"colorbar\":{\"outlinewidth\":0,\"ticks\":\"\"}},\"type\":\"scattergeo\"}],\"scattergl\":[{\"marker\":{\"colorbar\":{\"outlinewidth\":0,\"ticks\":\"\"}},\"type\":\"scattergl\"}],\"scattermapbox\":[{\"marker\":{\"colorbar\":{\"outlinewidth\":0,\"ticks\":\"\"}},\"type\":\"scattermapbox\"}],\"scatterpolar\":[{\"marker\":{\"colorbar\":{\"outlinewidth\":0,\"ticks\":\"\"}},\"type\":\"scatterpolar\"}],\"scatterpolargl\":[{\"marker\":{\"colorbar\":{\"outlinewidth\":0,\"ticks\":\"\"}},\"type\":\"scatterpolargl\"}],\"scatterternary\":[{\"marker\":{\"colorbar\":{\"outlinewidth\":0,\"ticks\":\"\"}},\"type\":\"scatterternary\"}],\"surface\":[{\"colorbar\":{\"outlinewidth\":0,\"ticks\":\"\"},\"colorscale\":[[0.0,\"#0d0887\"],[0.1111111111111111,\"#46039f\"],[0.2222222222222222,\"#7201a8\"],[0.3333333333333333,\"#9c179e\"],[0.4444444444444444,\"#bd3786\"],[0.5555555555555556,\"#d8576b\"],[0.6666666666666666,\"#ed7953\"],[0.7777777777777778,\"#fb9f3a\"],[0.8888888888888888,\"#fdca26\"],[1.0,\"#f0f921\"]],\"type\":\"surface\"}],\"table\":[{\"cells\":{\"fill\":{\"color\":\"#EBF0F8\"},\"line\":{\"color\":\"white\"}},\"header\":{\"fill\":{\"color\":\"#C8D4E3\"},\"line\":{\"color\":\"white\"}},\"type\":\"table\"}]},\"layout\":{\"annotationdefaults\":{\"arrowcolor\":\"#2a3f5f\",\"arrowhead\":0,\"arrowwidth\":1},\"autotypenumbers\":\"strict\",\"coloraxis\":{\"colorbar\":{\"outlinewidth\":0,\"ticks\":\"\"}},\"colorscale\":{\"diverging\":[[0,\"#8e0152\"],[0.1,\"#c51b7d\"],[0.2,\"#de77ae\"],[0.3,\"#f1b6da\"],[0.4,\"#fde0ef\"],[0.5,\"#f7f7f7\"],[0.6,\"#e6f5d0\"],[0.7,\"#b8e186\"],[0.8,\"#7fbc41\"],[0.9,\"#4d9221\"],[1,\"#276419\"]],\"sequential\":[[0.0,\"#0d0887\"],[0.1111111111111111,\"#46039f\"],[0.2222222222222222,\"#7201a8\"],[0.3333333333333333,\"#9c179e\"],[0.4444444444444444,\"#bd3786\"],[0.5555555555555556,\"#d8576b\"],[0.6666666666666666,\"#ed7953\"],[0.7777777777777778,\"#fb9f3a\"],[0.8888888888888888,\"#fdca26\"],[1.0,\"#f0f921\"]],\"sequentialminus\":[[0.0,\"#0d0887\"],[0.1111111111111111,\"#46039f\"],[0.2222222222222222,\"#7201a8\"],[0.3333333333333333,\"#9c179e\"],[0.4444444444444444,\"#bd3786\"],[0.5555555555555556,\"#d8576b\"],[0.6666666666666666,\"#ed7953\"],[0.7777777777777778,\"#fb9f3a\"],[0.8888888888888888,\"#fdca26\"],[1.0,\"#f0f921\"]]},\"colorway\":[\"#636efa\",\"#EF553B\",\"#00cc96\",\"#ab63fa\",\"#FFA15A\",\"#19d3f3\",\"#FF6692\",\"#B6E880\",\"#FF97FF\",\"#FECB52\"],\"font\":{\"color\":\"#2a3f5f\"},\"geo\":{\"bgcolor\":\"white\",\"lakecolor\":\"white\",\"landcolor\":\"#E5ECF6\",\"showlakes\":true,\"showland\":true,\"subunitcolor\":\"white\"},\"hoverlabel\":{\"align\":\"left\"},\"hovermode\":\"closest\",\"mapbox\":{\"style\":\"light\"},\"paper_bgcolor\":\"white\",\"plot_bgcolor\":\"#E5ECF6\",\"polar\":{\"angularaxis\":{\"gridcolor\":\"white\",\"linecolor\":\"white\",\"ticks\":\"\"},\"bgcolor\":\"#E5ECF6\",\"radialaxis\":{\"gridcolor\":\"white\",\"linecolor\":\"white\",\"ticks\":\"\"}},\"scene\":{\"xaxis\":{\"backgroundcolor\":\"#E5ECF6\",\"gridcolor\":\"white\",\"gridwidth\":2,\"linecolor\":\"white\",\"showbackground\":true,\"ticks\":\"\",\"zerolinecolor\":\"white\"},\"yaxis\":{\"backgroundcolor\":\"#E5ECF6\",\"gridcolor\":\"white\",\"gridwidth\":2,\"linecolor\":\"white\",\"showbackground\":true,\"ticks\":\"\",\"zerolinecolor\":\"white\"},\"zaxis\":{\"backgroundcolor\":\"#E5ECF6\",\"gridcolor\":\"white\",\"gridwidth\":2,\"linecolor\":\"white\",\"showbackground\":true,\"ticks\":\"\",\"zerolinecolor\":\"white\"}},\"shapedefaults\":{\"line\":{\"color\":\"#2a3f5f\"}},\"ternary\":{\"aaxis\":{\"gridcolor\":\"white\",\"linecolor\":\"white\",\"ticks\":\"\"},\"baxis\":{\"gridcolor\":\"white\",\"linecolor\":\"white\",\"ticks\":\"\"},\"bgcolor\":\"#E5ECF6\",\"caxis\":{\"gridcolor\":\"white\",\"linecolor\":\"white\",\"ticks\":\"\"}},\"title\":{\"x\":0.05},\"xaxis\":{\"automargin\":true,\"gridcolor\":\"white\",\"linecolor\":\"white\",\"ticks\":\"\",\"title\":{\"standoff\":15},\"zerolinecolor\":\"white\",\"zerolinewidth\":2},\"yaxis\":{\"automargin\":true,\"gridcolor\":\"white\",\"linecolor\":\"white\",\"ticks\":\"\",\"title\":{\"standoff\":15},\"zerolinecolor\":\"white\",\"zerolinewidth\":2}}},\"xaxis\":{\"anchor\":\"y\",\"domain\":[0.0,1.0],\"title\":{\"text\":\"x\"}},\"yaxis\":{\"anchor\":\"x\",\"domain\":[0.0,1.0],\"title\":{\"text\":\"y\"}},\"legend\":{\"tracegroupgap\":0},\"margin\":{\"t\":60}},                        {\"responsive\": true}                    ).then(function(){\n",
              "                            \n",
              "var gd = document.getElementById('795aabab-2749-4550-bbb5-5eb2e470ea1c');\n",
              "var x = new MutationObserver(function (mutations, observer) {{\n",
              "        var display = window.getComputedStyle(gd).display;\n",
              "        if (!display || display === 'none') {{\n",
              "            console.log([gd, 'removed!']);\n",
              "            Plotly.purge(gd);\n",
              "            observer.disconnect();\n",
              "        }}\n",
              "}});\n",
              "\n",
              "// Listen for the removal of the full notebook cells\n",
              "var notebookContainer = gd.closest('#notebook-container');\n",
              "if (notebookContainer) {{\n",
              "    x.observe(notebookContainer, {childList: true});\n",
              "}}\n",
              "\n",
              "// Listen for the clearing of the current output cell\n",
              "var outputEl = gd.closest('.output');\n",
              "if (outputEl) {{\n",
              "    x.observe(outputEl, {childList: true});\n",
              "}}\n",
              "\n",
              "                        })                };                            </script>        </div>\n",
              "</body>\n",
              "</html>"
            ]
          },
          "metadata": {}
        }
      ]
    },
    {
      "cell_type": "code",
      "metadata": {
        "colab": {
          "base_uri": "https://localhost:8080/"
        },
        "id": "iUBnXOR2YKVs",
        "outputId": "c3334595-e570-4167-f0f1-0d7b19c15cec"
      },
      "source": [
        "# Verificando os valores de um determinada previsão baseada na quantidade de pessoas \n",
        "qtd_pessoas = 4\n",
        "previsao_custo_diaria.intercept_ + previsao_custo_diaria.coef_ * qtd_pessoas"
      ],
      "execution_count": 25,
      "outputs": [
        {
          "output_type": "execute_result",
          "data": {
            "text/plain": [
              "array([390.5660747])"
            ]
          },
          "metadata": {},
          "execution_count": 25
        }
      ]
    },
    {
      "cell_type": "code",
      "metadata": {
        "colab": {
          "base_uri": "https://localhost:8080/"
        },
        "id": "XWQdBXigZvBB",
        "outputId": "55fdb0a7-69e4-4a23-ee0d-112a7490b93e"
      },
      "source": [
        "qtd_pessoas = 57\n",
        "previsao_custo_diaria.intercept_ + previsao_custo_diaria.coef_ * qtd_pessoas"
      ],
      "execution_count": 26,
      "outputs": [
        {
          "output_type": "execute_result",
          "data": {
            "text/plain": [
              "array([3101.03618476])"
            ]
          },
          "metadata": {},
          "execution_count": 26
        }
      ]
    },
    {
      "cell_type": "code",
      "metadata": {
        "id": "ZUgubMI0lQ8H",
        "colab": {
          "base_uri": "https://localhost:8080/"
        },
        "outputId": "cd5d90e7-7652-4872-bf71-c3fd749746ec"
      },
      "source": [
        "# Verificando de modo direto\n",
        "previsao_custo_diaria.predict([[57]]) "
      ],
      "execution_count": 27,
      "outputs": [
        {
          "output_type": "execute_result",
          "data": {
            "text/plain": [
              "array([3101.03618476])"
            ]
          },
          "metadata": {},
          "execution_count": 27
        }
      ]
    },
    {
      "cell_type": "code",
      "metadata": {
        "id": "hw6b2w4QlpV3",
        "colab": {
          "base_uri": "https://localhost:8080/"
        },
        "outputId": "640bff98-9dfc-4836-db72-83db8cb9dfb1"
      },
      "source": [
        "#indica a qualidade do algoritmo (Quanto mais próximo de 1, melhor a qualidade do modelo)\n",
        "previsao_custo_diaria.score(X_custo_diaria, y_custo_diaria)"
      ],
      "execution_count": 28,
      "outputs": [
        {
          "output_type": "execute_result",
          "data": {
            "text/plain": [
              "0.9577871649322629"
            ]
          },
          "metadata": {},
          "execution_count": 28
        }
      ]
    },
    {
      "cell_type": "code",
      "metadata": {
        "id": "bBHqTAMtluHm"
      },
      "source": [
        "# Visualizano os erros do modelo\n",
        "from sklearn.metrics import mean_squared_error, mean_absolute_error\n",
        "MSE = mean_squared_error(y_custo_diaria, previsao_precos)"
      ],
      "execution_count": 29,
      "outputs": []
    },
    {
      "cell_type": "code",
      "metadata": {
        "id": "-vMKQLKPn0mE",
        "colab": {
          "base_uri": "https://localhost:8080/"
        },
        "outputId": "836d2312-a418-4f24-dc36-03fd5dcd28f5"
      },
      "source": [
        "MSE"
      ],
      "execution_count": 30,
      "outputs": [
        {
          "output_type": "execute_result",
          "data": {
            "text/plain": [
              "36867.67840031127"
            ]
          },
          "metadata": {},
          "execution_count": 30
        }
      ]
    },
    {
      "cell_type": "code",
      "metadata": {
        "id": "uK59m0EFn16a",
        "colab": {
          "base_uri": "https://localhost:8080/"
        },
        "outputId": "ecb1b424-388e-4ce4-ac13-e4d4830d9f78"
      },
      "source": [
        "#Calculando MAE \n",
        "mean_absolute_error(y_custo_diaria, previsao_precos)\n"
      ],
      "execution_count": 31,
      "outputs": [
        {
          "output_type": "execute_result",
          "data": {
            "text/plain": [
              "138.91296481574125"
            ]
          },
          "metadata": {},
          "execution_count": 31
        }
      ]
    },
    {
      "cell_type": "code",
      "metadata": {
        "id": "BgNagp0UyhGk",
        "colab": {
          "base_uri": "https://localhost:8080/"
        },
        "outputId": "98b388ce-12cd-4367-b2ed-acae9eef51fc"
      },
      "source": [
        "# Calculando RMSE\n",
        "np.sqrt(MSE)"
      ],
      "execution_count": 32,
      "outputs": [
        {
          "output_type": "execute_result",
          "data": {
            "text/plain": [
              "192.0095789285297"
            ]
          },
          "metadata": {},
          "execution_count": 32
        }
      ]
    }
  ]
}
