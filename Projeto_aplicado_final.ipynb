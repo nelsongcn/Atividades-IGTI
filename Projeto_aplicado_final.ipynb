{
  "cells": [
    {
      "cell_type": "markdown",
      "metadata": {
        "id": "view-in-github",
        "colab_type": "text"
      },
      "source": [
        "<a href=\"https://colab.research.google.com/github/nelsongcn/Atividades-IGTI/blob/main/Projeto_aplicado_final.ipynb\" target=\"_parent\"><img src=\"https://colab.research.google.com/assets/colab-badge.svg\" alt=\"Open In Colab\"/></a>"
      ]
    },
    {
      "cell_type": "code",
      "execution_count": null,
      "id": "4b7489e5",
      "metadata": {
        "id": "4b7489e5",
        "outputId": "485679ad-7e29-4ea8-fadf-c0dd335015da"
      },
      "outputs": [
        {
          "name": "stdout",
          "output_type": "stream",
          "text": [
            "Requirement already satisfied: imbalanced-learn in c:\\users\\nelso\\anaconda3\\lib\\site-packages (0.10.0)\n",
            "Requirement already satisfied: scikit-learn>=1.0.2 in c:\\users\\nelso\\anaconda3\\lib\\site-packages (from imbalanced-learn) (1.0.2)\n",
            "Requirement already satisfied: threadpoolctl>=2.0.0 in c:\\users\\nelso\\anaconda3\\lib\\site-packages (from imbalanced-learn) (2.2.0)\n",
            "Requirement already satisfied: numpy>=1.17.3 in c:\\users\\nelso\\anaconda3\\lib\\site-packages (from imbalanced-learn) (1.21.5)\n",
            "Requirement already satisfied: scipy>=1.3.2 in c:\\users\\nelso\\anaconda3\\lib\\site-packages (from imbalanced-learn) (1.7.3)\n",
            "Requirement already satisfied: joblib>=1.1.1 in c:\\users\\nelso\\anaconda3\\lib\\site-packages (from imbalanced-learn) (1.2.0)\n"
          ]
        }
      ],
      "source": [
        "!pip install -U imbalanced-learn"
      ]
    },
    {
      "cell_type": "markdown",
      "id": "f1b93856",
      "metadata": {
        "id": "f1b93856"
      },
      "source": [
        "# Projeto Aplicado MBA Data Science"
      ]
    },
    {
      "cell_type": "code",
      "execution_count": null,
      "id": "9dce9b14",
      "metadata": {
        "id": "9dce9b14"
      },
      "outputs": [],
      "source": [
        "import pandas as pd"
      ]
    },
    {
      "cell_type": "markdown",
      "id": "7a15ca47",
      "metadata": {
        "id": "7a15ca47"
      },
      "source": [
        "### Carregando os dados "
      ]
    },
    {
      "cell_type": "markdown",
      "id": "a16f6891",
      "metadata": {
        "id": "a16f6891"
      },
      "source": [
        "Dados foram baixados da pllataforma Kaggle no seguinte link:\n",
        "https://www.kaggle.com/datasets/blastchar/telco-customer-churn"
      ]
    },
    {
      "cell_type": "code",
      "execution_count": null,
      "id": "0114fd75",
      "metadata": {
        "id": "0114fd75"
      },
      "outputs": [],
      "source": [
        "dados = pd.read_csv('dados.csv')"
      ]
    },
    {
      "cell_type": "markdown",
      "id": "79d9852e",
      "metadata": {
        "id": "79d9852e"
      },
      "source": [
        "### Visualizando amostra dos dados "
      ]
    },
    {
      "cell_type": "code",
      "execution_count": null,
      "id": "788c9f61",
      "metadata": {
        "id": "788c9f61",
        "outputId": "b8a89081-f277-4119-b640-08ae89c71094"
      },
      "outputs": [
        {
          "data": {
            "text/html": [
              "<div>\n",
              "<style scoped>\n",
              "    .dataframe tbody tr th:only-of-type {\n",
              "        vertical-align: middle;\n",
              "    }\n",
              "\n",
              "    .dataframe tbody tr th {\n",
              "        vertical-align: top;\n",
              "    }\n",
              "\n",
              "    .dataframe thead th {\n",
              "        text-align: right;\n",
              "    }\n",
              "</style>\n",
              "<table border=\"1\" class=\"dataframe\">\n",
              "  <thead>\n",
              "    <tr style=\"text-align: right;\">\n",
              "      <th></th>\n",
              "      <th>customerID</th>\n",
              "      <th>gender</th>\n",
              "      <th>SeniorCitizen</th>\n",
              "      <th>Partner</th>\n",
              "      <th>Dependents</th>\n",
              "      <th>tenure</th>\n",
              "      <th>PhoneService</th>\n",
              "      <th>MultipleLines</th>\n",
              "      <th>InternetService</th>\n",
              "      <th>OnlineSecurity</th>\n",
              "      <th>...</th>\n",
              "      <th>DeviceProtection</th>\n",
              "      <th>TechSupport</th>\n",
              "      <th>StreamingTV</th>\n",
              "      <th>StreamingMovies</th>\n",
              "      <th>Contract</th>\n",
              "      <th>PaperlessBilling</th>\n",
              "      <th>PaymentMethod</th>\n",
              "      <th>MonthlyCharges</th>\n",
              "      <th>TotalCharges</th>\n",
              "      <th>Churn</th>\n",
              "    </tr>\n",
              "  </thead>\n",
              "  <tbody>\n",
              "    <tr>\n",
              "      <th>0</th>\n",
              "      <td>7590-VHVEG</td>\n",
              "      <td>Female</td>\n",
              "      <td>0</td>\n",
              "      <td>Yes</td>\n",
              "      <td>No</td>\n",
              "      <td>1</td>\n",
              "      <td>No</td>\n",
              "      <td>No phone service</td>\n",
              "      <td>DSL</td>\n",
              "      <td>No</td>\n",
              "      <td>...</td>\n",
              "      <td>No</td>\n",
              "      <td>No</td>\n",
              "      <td>No</td>\n",
              "      <td>No</td>\n",
              "      <td>Month-to-month</td>\n",
              "      <td>Yes</td>\n",
              "      <td>Electronic check</td>\n",
              "      <td>29.85</td>\n",
              "      <td>29.85</td>\n",
              "      <td>No</td>\n",
              "    </tr>\n",
              "    <tr>\n",
              "      <th>1</th>\n",
              "      <td>5575-GNVDE</td>\n",
              "      <td>Male</td>\n",
              "      <td>0</td>\n",
              "      <td>No</td>\n",
              "      <td>No</td>\n",
              "      <td>34</td>\n",
              "      <td>Yes</td>\n",
              "      <td>No</td>\n",
              "      <td>DSL</td>\n",
              "      <td>Yes</td>\n",
              "      <td>...</td>\n",
              "      <td>Yes</td>\n",
              "      <td>No</td>\n",
              "      <td>No</td>\n",
              "      <td>No</td>\n",
              "      <td>One year</td>\n",
              "      <td>No</td>\n",
              "      <td>Mailed check</td>\n",
              "      <td>56.95</td>\n",
              "      <td>1889.5</td>\n",
              "      <td>No</td>\n",
              "    </tr>\n",
              "    <tr>\n",
              "      <th>2</th>\n",
              "      <td>3668-QPYBK</td>\n",
              "      <td>Male</td>\n",
              "      <td>0</td>\n",
              "      <td>No</td>\n",
              "      <td>No</td>\n",
              "      <td>2</td>\n",
              "      <td>Yes</td>\n",
              "      <td>No</td>\n",
              "      <td>DSL</td>\n",
              "      <td>Yes</td>\n",
              "      <td>...</td>\n",
              "      <td>No</td>\n",
              "      <td>No</td>\n",
              "      <td>No</td>\n",
              "      <td>No</td>\n",
              "      <td>Month-to-month</td>\n",
              "      <td>Yes</td>\n",
              "      <td>Mailed check</td>\n",
              "      <td>53.85</td>\n",
              "      <td>108.15</td>\n",
              "      <td>Yes</td>\n",
              "    </tr>\n",
              "    <tr>\n",
              "      <th>3</th>\n",
              "      <td>7795-CFOCW</td>\n",
              "      <td>Male</td>\n",
              "      <td>0</td>\n",
              "      <td>No</td>\n",
              "      <td>No</td>\n",
              "      <td>45</td>\n",
              "      <td>No</td>\n",
              "      <td>No phone service</td>\n",
              "      <td>DSL</td>\n",
              "      <td>Yes</td>\n",
              "      <td>...</td>\n",
              "      <td>Yes</td>\n",
              "      <td>Yes</td>\n",
              "      <td>No</td>\n",
              "      <td>No</td>\n",
              "      <td>One year</td>\n",
              "      <td>No</td>\n",
              "      <td>Bank transfer (automatic)</td>\n",
              "      <td>42.30</td>\n",
              "      <td>1840.75</td>\n",
              "      <td>No</td>\n",
              "    </tr>\n",
              "    <tr>\n",
              "      <th>4</th>\n",
              "      <td>9237-HQITU</td>\n",
              "      <td>Female</td>\n",
              "      <td>0</td>\n",
              "      <td>No</td>\n",
              "      <td>No</td>\n",
              "      <td>2</td>\n",
              "      <td>Yes</td>\n",
              "      <td>No</td>\n",
              "      <td>Fiber optic</td>\n",
              "      <td>No</td>\n",
              "      <td>...</td>\n",
              "      <td>No</td>\n",
              "      <td>No</td>\n",
              "      <td>No</td>\n",
              "      <td>No</td>\n",
              "      <td>Month-to-month</td>\n",
              "      <td>Yes</td>\n",
              "      <td>Electronic check</td>\n",
              "      <td>70.70</td>\n",
              "      <td>151.65</td>\n",
              "      <td>Yes</td>\n",
              "    </tr>\n",
              "  </tbody>\n",
              "</table>\n",
              "<p>5 rows × 21 columns</p>\n",
              "</div>"
            ],
            "text/plain": [
              "   customerID  gender  SeniorCitizen Partner Dependents  tenure PhoneService  \\\n",
              "0  7590-VHVEG  Female              0     Yes         No       1           No   \n",
              "1  5575-GNVDE    Male              0      No         No      34          Yes   \n",
              "2  3668-QPYBK    Male              0      No         No       2          Yes   \n",
              "3  7795-CFOCW    Male              0      No         No      45           No   \n",
              "4  9237-HQITU  Female              0      No         No       2          Yes   \n",
              "\n",
              "      MultipleLines InternetService OnlineSecurity  ... DeviceProtection  \\\n",
              "0  No phone service             DSL             No  ...               No   \n",
              "1                No             DSL            Yes  ...              Yes   \n",
              "2                No             DSL            Yes  ...               No   \n",
              "3  No phone service             DSL            Yes  ...              Yes   \n",
              "4                No     Fiber optic             No  ...               No   \n",
              "\n",
              "  TechSupport StreamingTV StreamingMovies        Contract PaperlessBilling  \\\n",
              "0          No          No              No  Month-to-month              Yes   \n",
              "1          No          No              No        One year               No   \n",
              "2          No          No              No  Month-to-month              Yes   \n",
              "3         Yes          No              No        One year               No   \n",
              "4          No          No              No  Month-to-month              Yes   \n",
              "\n",
              "               PaymentMethod MonthlyCharges  TotalCharges Churn  \n",
              "0           Electronic check          29.85         29.85    No  \n",
              "1               Mailed check          56.95        1889.5    No  \n",
              "2               Mailed check          53.85        108.15   Yes  \n",
              "3  Bank transfer (automatic)          42.30       1840.75    No  \n",
              "4           Electronic check          70.70        151.65   Yes  \n",
              "\n",
              "[5 rows x 21 columns]"
            ]
          },
          "execution_count": 3,
          "metadata": {},
          "output_type": "execute_result"
        }
      ],
      "source": [
        "dados.head()"
      ]
    },
    {
      "cell_type": "markdown",
      "id": "feab70b9",
      "metadata": {
        "id": "feab70b9"
      },
      "source": [
        "### Tamanho do dataframe"
      ]
    },
    {
      "cell_type": "code",
      "execution_count": null,
      "id": "680f95c0",
      "metadata": {
        "id": "680f95c0",
        "outputId": "f43710aa-9595-4426-fe52-3250ff98f309"
      },
      "outputs": [
        {
          "data": {
            "text/plain": [
              "(7043, 21)"
            ]
          },
          "execution_count": 4,
          "metadata": {},
          "output_type": "execute_result"
        }
      ],
      "source": [
        "dados.shape"
      ]
    },
    {
      "cell_type": "markdown",
      "id": "c2787e14",
      "metadata": {
        "id": "c2787e14"
      },
      "source": [
        "### Analisando os tipos de dados"
      ]
    },
    {
      "cell_type": "code",
      "execution_count": null,
      "id": "31040beb",
      "metadata": {
        "id": "31040beb",
        "outputId": "f72b8800-d7d6-4897-cb47-6848036b61d6"
      },
      "outputs": [
        {
          "name": "stdout",
          "output_type": "stream",
          "text": [
            "<class 'pandas.core.frame.DataFrame'>\n",
            "RangeIndex: 7043 entries, 0 to 7042\n",
            "Data columns (total 21 columns):\n",
            " #   Column            Non-Null Count  Dtype  \n",
            "---  ------            --------------  -----  \n",
            " 0   customerID        7043 non-null   object \n",
            " 1   gender            7043 non-null   object \n",
            " 2   SeniorCitizen     7043 non-null   int64  \n",
            " 3   Partner           7043 non-null   object \n",
            " 4   Dependents        7043 non-null   object \n",
            " 5   tenure            7043 non-null   int64  \n",
            " 6   PhoneService      7043 non-null   object \n",
            " 7   MultipleLines     7043 non-null   object \n",
            " 8   InternetService   7043 non-null   object \n",
            " 9   OnlineSecurity    7043 non-null   object \n",
            " 10  OnlineBackup      7043 non-null   object \n",
            " 11  DeviceProtection  7043 non-null   object \n",
            " 12  TechSupport       7043 non-null   object \n",
            " 13  StreamingTV       7043 non-null   object \n",
            " 14  StreamingMovies   7043 non-null   object \n",
            " 15  Contract          7043 non-null   object \n",
            " 16  PaperlessBilling  7043 non-null   object \n",
            " 17  PaymentMethod     7043 non-null   object \n",
            " 18  MonthlyCharges    7043 non-null   float64\n",
            " 19  TotalCharges      7043 non-null   object \n",
            " 20  Churn             7043 non-null   object \n",
            "dtypes: float64(1), int64(2), object(18)\n",
            "memory usage: 1.1+ MB\n"
          ]
        }
      ],
      "source": [
        "dados.info()"
      ]
    },
    {
      "cell_type": "markdown",
      "id": "cc6d1f16",
      "metadata": {
        "id": "cc6d1f16"
      },
      "source": [
        "### Ampliando a visualização do número de colunas"
      ]
    },
    {
      "cell_type": "code",
      "execution_count": null,
      "id": "eeb88bdd",
      "metadata": {
        "id": "eeb88bdd",
        "outputId": "e05adb86-92c7-4ba6-cd17-fd05659f3443"
      },
      "outputs": [
        {
          "data": {
            "text/html": [
              "<div>\n",
              "<style scoped>\n",
              "    .dataframe tbody tr th:only-of-type {\n",
              "        vertical-align: middle;\n",
              "    }\n",
              "\n",
              "    .dataframe tbody tr th {\n",
              "        vertical-align: top;\n",
              "    }\n",
              "\n",
              "    .dataframe thead th {\n",
              "        text-align: right;\n",
              "    }\n",
              "</style>\n",
              "<table border=\"1\" class=\"dataframe\">\n",
              "  <thead>\n",
              "    <tr style=\"text-align: right;\">\n",
              "      <th></th>\n",
              "      <th>customerID</th>\n",
              "      <th>gender</th>\n",
              "      <th>SeniorCitizen</th>\n",
              "      <th>Partner</th>\n",
              "      <th>Dependents</th>\n",
              "      <th>tenure</th>\n",
              "      <th>PhoneService</th>\n",
              "      <th>MultipleLines</th>\n",
              "      <th>InternetService</th>\n",
              "      <th>OnlineSecurity</th>\n",
              "      <th>OnlineBackup</th>\n",
              "      <th>DeviceProtection</th>\n",
              "      <th>TechSupport</th>\n",
              "      <th>StreamingTV</th>\n",
              "      <th>StreamingMovies</th>\n",
              "      <th>Contract</th>\n",
              "      <th>PaperlessBilling</th>\n",
              "      <th>PaymentMethod</th>\n",
              "      <th>MonthlyCharges</th>\n",
              "      <th>TotalCharges</th>\n",
              "      <th>Churn</th>\n",
              "    </tr>\n",
              "  </thead>\n",
              "  <tbody>\n",
              "    <tr>\n",
              "      <th>0</th>\n",
              "      <td>7590-VHVEG</td>\n",
              "      <td>Female</td>\n",
              "      <td>0</td>\n",
              "      <td>Yes</td>\n",
              "      <td>No</td>\n",
              "      <td>1</td>\n",
              "      <td>No</td>\n",
              "      <td>No phone service</td>\n",
              "      <td>DSL</td>\n",
              "      <td>No</td>\n",
              "      <td>Yes</td>\n",
              "      <td>No</td>\n",
              "      <td>No</td>\n",
              "      <td>No</td>\n",
              "      <td>No</td>\n",
              "      <td>Month-to-month</td>\n",
              "      <td>Yes</td>\n",
              "      <td>Electronic check</td>\n",
              "      <td>29.85</td>\n",
              "      <td>29.85</td>\n",
              "      <td>No</td>\n",
              "    </tr>\n",
              "    <tr>\n",
              "      <th>1</th>\n",
              "      <td>5575-GNVDE</td>\n",
              "      <td>Male</td>\n",
              "      <td>0</td>\n",
              "      <td>No</td>\n",
              "      <td>No</td>\n",
              "      <td>34</td>\n",
              "      <td>Yes</td>\n",
              "      <td>No</td>\n",
              "      <td>DSL</td>\n",
              "      <td>Yes</td>\n",
              "      <td>No</td>\n",
              "      <td>Yes</td>\n",
              "      <td>No</td>\n",
              "      <td>No</td>\n",
              "      <td>No</td>\n",
              "      <td>One year</td>\n",
              "      <td>No</td>\n",
              "      <td>Mailed check</td>\n",
              "      <td>56.95</td>\n",
              "      <td>1889.5</td>\n",
              "      <td>No</td>\n",
              "    </tr>\n",
              "    <tr>\n",
              "      <th>2</th>\n",
              "      <td>3668-QPYBK</td>\n",
              "      <td>Male</td>\n",
              "      <td>0</td>\n",
              "      <td>No</td>\n",
              "      <td>No</td>\n",
              "      <td>2</td>\n",
              "      <td>Yes</td>\n",
              "      <td>No</td>\n",
              "      <td>DSL</td>\n",
              "      <td>Yes</td>\n",
              "      <td>Yes</td>\n",
              "      <td>No</td>\n",
              "      <td>No</td>\n",
              "      <td>No</td>\n",
              "      <td>No</td>\n",
              "      <td>Month-to-month</td>\n",
              "      <td>Yes</td>\n",
              "      <td>Mailed check</td>\n",
              "      <td>53.85</td>\n",
              "      <td>108.15</td>\n",
              "      <td>Yes</td>\n",
              "    </tr>\n",
              "    <tr>\n",
              "      <th>3</th>\n",
              "      <td>7795-CFOCW</td>\n",
              "      <td>Male</td>\n",
              "      <td>0</td>\n",
              "      <td>No</td>\n",
              "      <td>No</td>\n",
              "      <td>45</td>\n",
              "      <td>No</td>\n",
              "      <td>No phone service</td>\n",
              "      <td>DSL</td>\n",
              "      <td>Yes</td>\n",
              "      <td>No</td>\n",
              "      <td>Yes</td>\n",
              "      <td>Yes</td>\n",
              "      <td>No</td>\n",
              "      <td>No</td>\n",
              "      <td>One year</td>\n",
              "      <td>No</td>\n",
              "      <td>Bank transfer (automatic)</td>\n",
              "      <td>42.30</td>\n",
              "      <td>1840.75</td>\n",
              "      <td>No</td>\n",
              "    </tr>\n",
              "    <tr>\n",
              "      <th>4</th>\n",
              "      <td>9237-HQITU</td>\n",
              "      <td>Female</td>\n",
              "      <td>0</td>\n",
              "      <td>No</td>\n",
              "      <td>No</td>\n",
              "      <td>2</td>\n",
              "      <td>Yes</td>\n",
              "      <td>No</td>\n",
              "      <td>Fiber optic</td>\n",
              "      <td>No</td>\n",
              "      <td>No</td>\n",
              "      <td>No</td>\n",
              "      <td>No</td>\n",
              "      <td>No</td>\n",
              "      <td>No</td>\n",
              "      <td>Month-to-month</td>\n",
              "      <td>Yes</td>\n",
              "      <td>Electronic check</td>\n",
              "      <td>70.70</td>\n",
              "      <td>151.65</td>\n",
              "      <td>Yes</td>\n",
              "    </tr>\n",
              "    <tr>\n",
              "      <th>...</th>\n",
              "      <td>...</td>\n",
              "      <td>...</td>\n",
              "      <td>...</td>\n",
              "      <td>...</td>\n",
              "      <td>...</td>\n",
              "      <td>...</td>\n",
              "      <td>...</td>\n",
              "      <td>...</td>\n",
              "      <td>...</td>\n",
              "      <td>...</td>\n",
              "      <td>...</td>\n",
              "      <td>...</td>\n",
              "      <td>...</td>\n",
              "      <td>...</td>\n",
              "      <td>...</td>\n",
              "      <td>...</td>\n",
              "      <td>...</td>\n",
              "      <td>...</td>\n",
              "      <td>...</td>\n",
              "      <td>...</td>\n",
              "      <td>...</td>\n",
              "    </tr>\n",
              "    <tr>\n",
              "      <th>7038</th>\n",
              "      <td>6840-RESVB</td>\n",
              "      <td>Male</td>\n",
              "      <td>0</td>\n",
              "      <td>Yes</td>\n",
              "      <td>Yes</td>\n",
              "      <td>24</td>\n",
              "      <td>Yes</td>\n",
              "      <td>Yes</td>\n",
              "      <td>DSL</td>\n",
              "      <td>Yes</td>\n",
              "      <td>No</td>\n",
              "      <td>Yes</td>\n",
              "      <td>Yes</td>\n",
              "      <td>Yes</td>\n",
              "      <td>Yes</td>\n",
              "      <td>One year</td>\n",
              "      <td>Yes</td>\n",
              "      <td>Mailed check</td>\n",
              "      <td>84.80</td>\n",
              "      <td>1990.5</td>\n",
              "      <td>No</td>\n",
              "    </tr>\n",
              "    <tr>\n",
              "      <th>7039</th>\n",
              "      <td>2234-XADUH</td>\n",
              "      <td>Female</td>\n",
              "      <td>0</td>\n",
              "      <td>Yes</td>\n",
              "      <td>Yes</td>\n",
              "      <td>72</td>\n",
              "      <td>Yes</td>\n",
              "      <td>Yes</td>\n",
              "      <td>Fiber optic</td>\n",
              "      <td>No</td>\n",
              "      <td>Yes</td>\n",
              "      <td>Yes</td>\n",
              "      <td>No</td>\n",
              "      <td>Yes</td>\n",
              "      <td>Yes</td>\n",
              "      <td>One year</td>\n",
              "      <td>Yes</td>\n",
              "      <td>Credit card (automatic)</td>\n",
              "      <td>103.20</td>\n",
              "      <td>7362.9</td>\n",
              "      <td>No</td>\n",
              "    </tr>\n",
              "    <tr>\n",
              "      <th>7040</th>\n",
              "      <td>4801-JZAZL</td>\n",
              "      <td>Female</td>\n",
              "      <td>0</td>\n",
              "      <td>Yes</td>\n",
              "      <td>Yes</td>\n",
              "      <td>11</td>\n",
              "      <td>No</td>\n",
              "      <td>No phone service</td>\n",
              "      <td>DSL</td>\n",
              "      <td>Yes</td>\n",
              "      <td>No</td>\n",
              "      <td>No</td>\n",
              "      <td>No</td>\n",
              "      <td>No</td>\n",
              "      <td>No</td>\n",
              "      <td>Month-to-month</td>\n",
              "      <td>Yes</td>\n",
              "      <td>Electronic check</td>\n",
              "      <td>29.60</td>\n",
              "      <td>346.45</td>\n",
              "      <td>No</td>\n",
              "    </tr>\n",
              "    <tr>\n",
              "      <th>7041</th>\n",
              "      <td>8361-LTMKD</td>\n",
              "      <td>Male</td>\n",
              "      <td>1</td>\n",
              "      <td>Yes</td>\n",
              "      <td>No</td>\n",
              "      <td>4</td>\n",
              "      <td>Yes</td>\n",
              "      <td>Yes</td>\n",
              "      <td>Fiber optic</td>\n",
              "      <td>No</td>\n",
              "      <td>No</td>\n",
              "      <td>No</td>\n",
              "      <td>No</td>\n",
              "      <td>No</td>\n",
              "      <td>No</td>\n",
              "      <td>Month-to-month</td>\n",
              "      <td>Yes</td>\n",
              "      <td>Mailed check</td>\n",
              "      <td>74.40</td>\n",
              "      <td>306.6</td>\n",
              "      <td>Yes</td>\n",
              "    </tr>\n",
              "    <tr>\n",
              "      <th>7042</th>\n",
              "      <td>3186-AJIEK</td>\n",
              "      <td>Male</td>\n",
              "      <td>0</td>\n",
              "      <td>No</td>\n",
              "      <td>No</td>\n",
              "      <td>66</td>\n",
              "      <td>Yes</td>\n",
              "      <td>No</td>\n",
              "      <td>Fiber optic</td>\n",
              "      <td>Yes</td>\n",
              "      <td>No</td>\n",
              "      <td>Yes</td>\n",
              "      <td>Yes</td>\n",
              "      <td>Yes</td>\n",
              "      <td>Yes</td>\n",
              "      <td>Two year</td>\n",
              "      <td>Yes</td>\n",
              "      <td>Bank transfer (automatic)</td>\n",
              "      <td>105.65</td>\n",
              "      <td>6844.5</td>\n",
              "      <td>No</td>\n",
              "    </tr>\n",
              "  </tbody>\n",
              "</table>\n",
              "<p>7043 rows × 21 columns</p>\n",
              "</div>"
            ],
            "text/plain": [
              "      customerID  gender  SeniorCitizen Partner Dependents  tenure  \\\n",
              "0     7590-VHVEG  Female              0     Yes         No       1   \n",
              "1     5575-GNVDE    Male              0      No         No      34   \n",
              "2     3668-QPYBK    Male              0      No         No       2   \n",
              "3     7795-CFOCW    Male              0      No         No      45   \n",
              "4     9237-HQITU  Female              0      No         No       2   \n",
              "...          ...     ...            ...     ...        ...     ...   \n",
              "7038  6840-RESVB    Male              0     Yes        Yes      24   \n",
              "7039  2234-XADUH  Female              0     Yes        Yes      72   \n",
              "7040  4801-JZAZL  Female              0     Yes        Yes      11   \n",
              "7041  8361-LTMKD    Male              1     Yes         No       4   \n",
              "7042  3186-AJIEK    Male              0      No         No      66   \n",
              "\n",
              "     PhoneService     MultipleLines InternetService OnlineSecurity  \\\n",
              "0              No  No phone service             DSL             No   \n",
              "1             Yes                No             DSL            Yes   \n",
              "2             Yes                No             DSL            Yes   \n",
              "3              No  No phone service             DSL            Yes   \n",
              "4             Yes                No     Fiber optic             No   \n",
              "...           ...               ...             ...            ...   \n",
              "7038          Yes               Yes             DSL            Yes   \n",
              "7039          Yes               Yes     Fiber optic             No   \n",
              "7040           No  No phone service             DSL            Yes   \n",
              "7041          Yes               Yes     Fiber optic             No   \n",
              "7042          Yes                No     Fiber optic            Yes   \n",
              "\n",
              "     OnlineBackup DeviceProtection TechSupport StreamingTV StreamingMovies  \\\n",
              "0             Yes               No          No          No              No   \n",
              "1              No              Yes          No          No              No   \n",
              "2             Yes               No          No          No              No   \n",
              "3              No              Yes         Yes          No              No   \n",
              "4              No               No          No          No              No   \n",
              "...           ...              ...         ...         ...             ...   \n",
              "7038           No              Yes         Yes         Yes             Yes   \n",
              "7039          Yes              Yes          No         Yes             Yes   \n",
              "7040           No               No          No          No              No   \n",
              "7041           No               No          No          No              No   \n",
              "7042           No              Yes         Yes         Yes             Yes   \n",
              "\n",
              "            Contract PaperlessBilling              PaymentMethod  \\\n",
              "0     Month-to-month              Yes           Electronic check   \n",
              "1           One year               No               Mailed check   \n",
              "2     Month-to-month              Yes               Mailed check   \n",
              "3           One year               No  Bank transfer (automatic)   \n",
              "4     Month-to-month              Yes           Electronic check   \n",
              "...              ...              ...                        ...   \n",
              "7038        One year              Yes               Mailed check   \n",
              "7039        One year              Yes    Credit card (automatic)   \n",
              "7040  Month-to-month              Yes           Electronic check   \n",
              "7041  Month-to-month              Yes               Mailed check   \n",
              "7042        Two year              Yes  Bank transfer (automatic)   \n",
              "\n",
              "      MonthlyCharges TotalCharges Churn  \n",
              "0              29.85        29.85    No  \n",
              "1              56.95       1889.5    No  \n",
              "2              53.85       108.15   Yes  \n",
              "3              42.30      1840.75    No  \n",
              "4              70.70       151.65   Yes  \n",
              "...              ...          ...   ...  \n",
              "7038           84.80       1990.5    No  \n",
              "7039          103.20       7362.9    No  \n",
              "7040           29.60       346.45    No  \n",
              "7041           74.40        306.6   Yes  \n",
              "7042          105.65       6844.5    No  \n",
              "\n",
              "[7043 rows x 21 columns]"
            ]
          },
          "execution_count": 6,
          "metadata": {},
          "output_type": "execute_result"
        }
      ],
      "source": [
        "pd.set_option(\"display.max_columns\",30)\n",
        "dados"
      ]
    },
    {
      "cell_type": "markdown",
      "id": "bfae902e",
      "metadata": {
        "id": "bfae902e"
      },
      "source": [
        "### Traduzindo os rótulos das colunas"
      ]
    },
    {
      "cell_type": "code",
      "execution_count": null,
      "id": "c1555ffd",
      "metadata": {
        "id": "c1555ffd"
      },
      "outputs": [],
      "source": [
        "dados = dados.rename(columns={'customerID': 'IDcliente', \"gender\": \"sexo\", \"SeniorCitizen\": \"idoso\", \"Partner\": \"parceiro\", \"Dependents\": \"dependentes\", \"tenure\": \"tempo_contrato\", \"PhoneService\": \"servico_telefonico\",\n",
        "                   \"MultipleLines\": \"multiplas_linhas\", \"InternetService\": \"servico_internet\", \"OnlineSecurity\": \"seguranca_online\", \"OnlineBackup\": \"backup_online\", \"DeviceProtection\": \"protecao_dispositivo\",\n",
        "                   \"TechSupport\": \"suporte_tecnico\", \"StreamingTV\": \"TV_a_cabo\", \"StreamingMovies\": \"streaming_filmes\", \"Contract\": \"tipo_contrato\", \"PaperlessBilling\": \"conta_online\", \"PaymentMethod\": \"forma_pagamento\",\n",
        "                   \"MonthlyCharges\": \"gastos_mes\", \"TotalCharges\": \"gastos_total\"})"
      ]
    },
    {
      "cell_type": "code",
      "execution_count": null,
      "id": "c01165b8",
      "metadata": {
        "id": "c01165b8",
        "outputId": "9279b5e5-1e60-4514-dacb-00b4535459b8"
      },
      "outputs": [
        {
          "data": {
            "text/html": [
              "<div>\n",
              "<style scoped>\n",
              "    .dataframe tbody tr th:only-of-type {\n",
              "        vertical-align: middle;\n",
              "    }\n",
              "\n",
              "    .dataframe tbody tr th {\n",
              "        vertical-align: top;\n",
              "    }\n",
              "\n",
              "    .dataframe thead th {\n",
              "        text-align: right;\n",
              "    }\n",
              "</style>\n",
              "<table border=\"1\" class=\"dataframe\">\n",
              "  <thead>\n",
              "    <tr style=\"text-align: right;\">\n",
              "      <th></th>\n",
              "      <th>IDcliente</th>\n",
              "      <th>sexo</th>\n",
              "      <th>idoso</th>\n",
              "      <th>parceiro</th>\n",
              "      <th>dependentes</th>\n",
              "      <th>tempo_contrato</th>\n",
              "      <th>servico_telefonico</th>\n",
              "      <th>multiplas_linhas</th>\n",
              "      <th>servico_internet</th>\n",
              "      <th>seguranca_online</th>\n",
              "      <th>backup_online</th>\n",
              "      <th>protecao_dispositivo</th>\n",
              "      <th>suporte_tecnico</th>\n",
              "      <th>TV_a_cabo</th>\n",
              "      <th>streaming_filmes</th>\n",
              "      <th>tipo_contrato</th>\n",
              "      <th>conta_online</th>\n",
              "      <th>forma_pagamento</th>\n",
              "      <th>gastos_mes</th>\n",
              "      <th>gastos_total</th>\n",
              "      <th>Churn</th>\n",
              "    </tr>\n",
              "  </thead>\n",
              "  <tbody>\n",
              "    <tr>\n",
              "      <th>0</th>\n",
              "      <td>7590-VHVEG</td>\n",
              "      <td>Female</td>\n",
              "      <td>0</td>\n",
              "      <td>Yes</td>\n",
              "      <td>No</td>\n",
              "      <td>1</td>\n",
              "      <td>No</td>\n",
              "      <td>No phone service</td>\n",
              "      <td>DSL</td>\n",
              "      <td>No</td>\n",
              "      <td>Yes</td>\n",
              "      <td>No</td>\n",
              "      <td>No</td>\n",
              "      <td>No</td>\n",
              "      <td>No</td>\n",
              "      <td>Month-to-month</td>\n",
              "      <td>Yes</td>\n",
              "      <td>Electronic check</td>\n",
              "      <td>29.85</td>\n",
              "      <td>29.85</td>\n",
              "      <td>No</td>\n",
              "    </tr>\n",
              "    <tr>\n",
              "      <th>1</th>\n",
              "      <td>5575-GNVDE</td>\n",
              "      <td>Male</td>\n",
              "      <td>0</td>\n",
              "      <td>No</td>\n",
              "      <td>No</td>\n",
              "      <td>34</td>\n",
              "      <td>Yes</td>\n",
              "      <td>No</td>\n",
              "      <td>DSL</td>\n",
              "      <td>Yes</td>\n",
              "      <td>No</td>\n",
              "      <td>Yes</td>\n",
              "      <td>No</td>\n",
              "      <td>No</td>\n",
              "      <td>No</td>\n",
              "      <td>One year</td>\n",
              "      <td>No</td>\n",
              "      <td>Mailed check</td>\n",
              "      <td>56.95</td>\n",
              "      <td>1889.5</td>\n",
              "      <td>No</td>\n",
              "    </tr>\n",
              "    <tr>\n",
              "      <th>2</th>\n",
              "      <td>3668-QPYBK</td>\n",
              "      <td>Male</td>\n",
              "      <td>0</td>\n",
              "      <td>No</td>\n",
              "      <td>No</td>\n",
              "      <td>2</td>\n",
              "      <td>Yes</td>\n",
              "      <td>No</td>\n",
              "      <td>DSL</td>\n",
              "      <td>Yes</td>\n",
              "      <td>Yes</td>\n",
              "      <td>No</td>\n",
              "      <td>No</td>\n",
              "      <td>No</td>\n",
              "      <td>No</td>\n",
              "      <td>Month-to-month</td>\n",
              "      <td>Yes</td>\n",
              "      <td>Mailed check</td>\n",
              "      <td>53.85</td>\n",
              "      <td>108.15</td>\n",
              "      <td>Yes</td>\n",
              "    </tr>\n",
              "    <tr>\n",
              "      <th>3</th>\n",
              "      <td>7795-CFOCW</td>\n",
              "      <td>Male</td>\n",
              "      <td>0</td>\n",
              "      <td>No</td>\n",
              "      <td>No</td>\n",
              "      <td>45</td>\n",
              "      <td>No</td>\n",
              "      <td>No phone service</td>\n",
              "      <td>DSL</td>\n",
              "      <td>Yes</td>\n",
              "      <td>No</td>\n",
              "      <td>Yes</td>\n",
              "      <td>Yes</td>\n",
              "      <td>No</td>\n",
              "      <td>No</td>\n",
              "      <td>One year</td>\n",
              "      <td>No</td>\n",
              "      <td>Bank transfer (automatic)</td>\n",
              "      <td>42.30</td>\n",
              "      <td>1840.75</td>\n",
              "      <td>No</td>\n",
              "    </tr>\n",
              "    <tr>\n",
              "      <th>4</th>\n",
              "      <td>9237-HQITU</td>\n",
              "      <td>Female</td>\n",
              "      <td>0</td>\n",
              "      <td>No</td>\n",
              "      <td>No</td>\n",
              "      <td>2</td>\n",
              "      <td>Yes</td>\n",
              "      <td>No</td>\n",
              "      <td>Fiber optic</td>\n",
              "      <td>No</td>\n",
              "      <td>No</td>\n",
              "      <td>No</td>\n",
              "      <td>No</td>\n",
              "      <td>No</td>\n",
              "      <td>No</td>\n",
              "      <td>Month-to-month</td>\n",
              "      <td>Yes</td>\n",
              "      <td>Electronic check</td>\n",
              "      <td>70.70</td>\n",
              "      <td>151.65</td>\n",
              "      <td>Yes</td>\n",
              "    </tr>\n",
              "    <tr>\n",
              "      <th>...</th>\n",
              "      <td>...</td>\n",
              "      <td>...</td>\n",
              "      <td>...</td>\n",
              "      <td>...</td>\n",
              "      <td>...</td>\n",
              "      <td>...</td>\n",
              "      <td>...</td>\n",
              "      <td>...</td>\n",
              "      <td>...</td>\n",
              "      <td>...</td>\n",
              "      <td>...</td>\n",
              "      <td>...</td>\n",
              "      <td>...</td>\n",
              "      <td>...</td>\n",
              "      <td>...</td>\n",
              "      <td>...</td>\n",
              "      <td>...</td>\n",
              "      <td>...</td>\n",
              "      <td>...</td>\n",
              "      <td>...</td>\n",
              "      <td>...</td>\n",
              "    </tr>\n",
              "    <tr>\n",
              "      <th>7038</th>\n",
              "      <td>6840-RESVB</td>\n",
              "      <td>Male</td>\n",
              "      <td>0</td>\n",
              "      <td>Yes</td>\n",
              "      <td>Yes</td>\n",
              "      <td>24</td>\n",
              "      <td>Yes</td>\n",
              "      <td>Yes</td>\n",
              "      <td>DSL</td>\n",
              "      <td>Yes</td>\n",
              "      <td>No</td>\n",
              "      <td>Yes</td>\n",
              "      <td>Yes</td>\n",
              "      <td>Yes</td>\n",
              "      <td>Yes</td>\n",
              "      <td>One year</td>\n",
              "      <td>Yes</td>\n",
              "      <td>Mailed check</td>\n",
              "      <td>84.80</td>\n",
              "      <td>1990.5</td>\n",
              "      <td>No</td>\n",
              "    </tr>\n",
              "    <tr>\n",
              "      <th>7039</th>\n",
              "      <td>2234-XADUH</td>\n",
              "      <td>Female</td>\n",
              "      <td>0</td>\n",
              "      <td>Yes</td>\n",
              "      <td>Yes</td>\n",
              "      <td>72</td>\n",
              "      <td>Yes</td>\n",
              "      <td>Yes</td>\n",
              "      <td>Fiber optic</td>\n",
              "      <td>No</td>\n",
              "      <td>Yes</td>\n",
              "      <td>Yes</td>\n",
              "      <td>No</td>\n",
              "      <td>Yes</td>\n",
              "      <td>Yes</td>\n",
              "      <td>One year</td>\n",
              "      <td>Yes</td>\n",
              "      <td>Credit card (automatic)</td>\n",
              "      <td>103.20</td>\n",
              "      <td>7362.9</td>\n",
              "      <td>No</td>\n",
              "    </tr>\n",
              "    <tr>\n",
              "      <th>7040</th>\n",
              "      <td>4801-JZAZL</td>\n",
              "      <td>Female</td>\n",
              "      <td>0</td>\n",
              "      <td>Yes</td>\n",
              "      <td>Yes</td>\n",
              "      <td>11</td>\n",
              "      <td>No</td>\n",
              "      <td>No phone service</td>\n",
              "      <td>DSL</td>\n",
              "      <td>Yes</td>\n",
              "      <td>No</td>\n",
              "      <td>No</td>\n",
              "      <td>No</td>\n",
              "      <td>No</td>\n",
              "      <td>No</td>\n",
              "      <td>Month-to-month</td>\n",
              "      <td>Yes</td>\n",
              "      <td>Electronic check</td>\n",
              "      <td>29.60</td>\n",
              "      <td>346.45</td>\n",
              "      <td>No</td>\n",
              "    </tr>\n",
              "    <tr>\n",
              "      <th>7041</th>\n",
              "      <td>8361-LTMKD</td>\n",
              "      <td>Male</td>\n",
              "      <td>1</td>\n",
              "      <td>Yes</td>\n",
              "      <td>No</td>\n",
              "      <td>4</td>\n",
              "      <td>Yes</td>\n",
              "      <td>Yes</td>\n",
              "      <td>Fiber optic</td>\n",
              "      <td>No</td>\n",
              "      <td>No</td>\n",
              "      <td>No</td>\n",
              "      <td>No</td>\n",
              "      <td>No</td>\n",
              "      <td>No</td>\n",
              "      <td>Month-to-month</td>\n",
              "      <td>Yes</td>\n",
              "      <td>Mailed check</td>\n",
              "      <td>74.40</td>\n",
              "      <td>306.6</td>\n",
              "      <td>Yes</td>\n",
              "    </tr>\n",
              "    <tr>\n",
              "      <th>7042</th>\n",
              "      <td>3186-AJIEK</td>\n",
              "      <td>Male</td>\n",
              "      <td>0</td>\n",
              "      <td>No</td>\n",
              "      <td>No</td>\n",
              "      <td>66</td>\n",
              "      <td>Yes</td>\n",
              "      <td>No</td>\n",
              "      <td>Fiber optic</td>\n",
              "      <td>Yes</td>\n",
              "      <td>No</td>\n",
              "      <td>Yes</td>\n",
              "      <td>Yes</td>\n",
              "      <td>Yes</td>\n",
              "      <td>Yes</td>\n",
              "      <td>Two year</td>\n",
              "      <td>Yes</td>\n",
              "      <td>Bank transfer (automatic)</td>\n",
              "      <td>105.65</td>\n",
              "      <td>6844.5</td>\n",
              "      <td>No</td>\n",
              "    </tr>\n",
              "  </tbody>\n",
              "</table>\n",
              "<p>7043 rows × 21 columns</p>\n",
              "</div>"
            ],
            "text/plain": [
              "       IDcliente    sexo  idoso parceiro dependentes  tempo_contrato  \\\n",
              "0     7590-VHVEG  Female      0      Yes          No               1   \n",
              "1     5575-GNVDE    Male      0       No          No              34   \n",
              "2     3668-QPYBK    Male      0       No          No               2   \n",
              "3     7795-CFOCW    Male      0       No          No              45   \n",
              "4     9237-HQITU  Female      0       No          No               2   \n",
              "...          ...     ...    ...      ...         ...             ...   \n",
              "7038  6840-RESVB    Male      0      Yes         Yes              24   \n",
              "7039  2234-XADUH  Female      0      Yes         Yes              72   \n",
              "7040  4801-JZAZL  Female      0      Yes         Yes              11   \n",
              "7041  8361-LTMKD    Male      1      Yes          No               4   \n",
              "7042  3186-AJIEK    Male      0       No          No              66   \n",
              "\n",
              "     servico_telefonico  multiplas_linhas servico_internet seguranca_online  \\\n",
              "0                    No  No phone service              DSL               No   \n",
              "1                   Yes                No              DSL              Yes   \n",
              "2                   Yes                No              DSL              Yes   \n",
              "3                    No  No phone service              DSL              Yes   \n",
              "4                   Yes                No      Fiber optic               No   \n",
              "...                 ...               ...              ...              ...   \n",
              "7038                Yes               Yes              DSL              Yes   \n",
              "7039                Yes               Yes      Fiber optic               No   \n",
              "7040                 No  No phone service              DSL              Yes   \n",
              "7041                Yes               Yes      Fiber optic               No   \n",
              "7042                Yes                No      Fiber optic              Yes   \n",
              "\n",
              "     backup_online protecao_dispositivo suporte_tecnico TV_a_cabo  \\\n",
              "0              Yes                   No              No        No   \n",
              "1               No                  Yes              No        No   \n",
              "2              Yes                   No              No        No   \n",
              "3               No                  Yes             Yes        No   \n",
              "4               No                   No              No        No   \n",
              "...            ...                  ...             ...       ...   \n",
              "7038            No                  Yes             Yes       Yes   \n",
              "7039           Yes                  Yes              No       Yes   \n",
              "7040            No                   No              No        No   \n",
              "7041            No                   No              No        No   \n",
              "7042            No                  Yes             Yes       Yes   \n",
              "\n",
              "     streaming_filmes   tipo_contrato conta_online            forma_pagamento  \\\n",
              "0                  No  Month-to-month          Yes           Electronic check   \n",
              "1                  No        One year           No               Mailed check   \n",
              "2                  No  Month-to-month          Yes               Mailed check   \n",
              "3                  No        One year           No  Bank transfer (automatic)   \n",
              "4                  No  Month-to-month          Yes           Electronic check   \n",
              "...               ...             ...          ...                        ...   \n",
              "7038              Yes        One year          Yes               Mailed check   \n",
              "7039              Yes        One year          Yes    Credit card (automatic)   \n",
              "7040               No  Month-to-month          Yes           Electronic check   \n",
              "7041               No  Month-to-month          Yes               Mailed check   \n",
              "7042              Yes        Two year          Yes  Bank transfer (automatic)   \n",
              "\n",
              "      gastos_mes gastos_total Churn  \n",
              "0          29.85        29.85    No  \n",
              "1          56.95       1889.5    No  \n",
              "2          53.85       108.15   Yes  \n",
              "3          42.30      1840.75    No  \n",
              "4          70.70       151.65   Yes  \n",
              "...          ...          ...   ...  \n",
              "7038       84.80       1990.5    No  \n",
              "7039      103.20       7362.9    No  \n",
              "7040       29.60       346.45    No  \n",
              "7041       74.40        306.6   Yes  \n",
              "7042      105.65       6844.5    No  \n",
              "\n",
              "[7043 rows x 21 columns]"
            ]
          },
          "execution_count": 8,
          "metadata": {},
          "output_type": "execute_result"
        }
      ],
      "source": [
        "dados"
      ]
    },
    {
      "cell_type": "markdown",
      "id": "48bc099c",
      "metadata": {
        "id": "48bc099c"
      },
      "source": [
        "### Verificando Inconsistencias nos Dados"
      ]
    },
    {
      "cell_type": "code",
      "execution_count": null,
      "id": "943f43d6",
      "metadata": {
        "id": "943f43d6",
        "outputId": "56c19ea1-07fe-4c61-a53c-00e1753a70cf"
      },
      "outputs": [
        {
          "name": "stdout",
          "output_type": "stream",
          "text": [
            "A coluna IDcliente tem as seguintes informações: ['7590-VHVEG' '5575-GNVDE' '3668-QPYBK' ... '4801-JZAZL' '8361-LTMKD'\n",
            " '3186-AJIEK']\n",
            "A coluna sexo tem as seguintes informações: ['Female' 'Male']\n",
            "A coluna idoso tem as seguintes informações: [0 1]\n",
            "A coluna parceiro tem as seguintes informações: ['Yes' 'No']\n",
            "A coluna dependentes tem as seguintes informações: ['No' 'Yes']\n",
            "A coluna tempo_contrato tem as seguintes informações: [ 1 34  2 45  8 22 10 28 62 13 16 58 49 25 69 52 71 21 12 30 47 72 17 27\n",
            "  5 46 11 70 63 43 15 60 18 66  9  3 31 50 64 56  7 42 35 48 29 65 38 68\n",
            " 32 55 37 36 41  6  4 33 67 23 57 61 14 20 53 40 59 24 44 19 54 51 26  0\n",
            " 39]\n",
            "A coluna servico_telefonico tem as seguintes informações: ['No' 'Yes']\n",
            "A coluna multiplas_linhas tem as seguintes informações: ['No phone service' 'No' 'Yes']\n",
            "A coluna servico_internet tem as seguintes informações: ['DSL' 'Fiber optic' 'No']\n",
            "A coluna seguranca_online tem as seguintes informações: ['No' 'Yes' 'No internet service']\n",
            "A coluna backup_online tem as seguintes informações: ['Yes' 'No' 'No internet service']\n",
            "A coluna protecao_dispositivo tem as seguintes informações: ['No' 'Yes' 'No internet service']\n",
            "A coluna suporte_tecnico tem as seguintes informações: ['No' 'Yes' 'No internet service']\n",
            "A coluna TV_a_cabo tem as seguintes informações: ['No' 'Yes' 'No internet service']\n",
            "A coluna streaming_filmes tem as seguintes informações: ['No' 'Yes' 'No internet service']\n",
            "A coluna tipo_contrato tem as seguintes informações: ['Month-to-month' 'One year' 'Two year']\n",
            "A coluna conta_online tem as seguintes informações: ['Yes' 'No']\n",
            "A coluna forma_pagamento tem as seguintes informações: ['Electronic check' 'Mailed check' 'Bank transfer (automatic)'\n",
            " 'Credit card (automatic)']\n",
            "A coluna gastos_mes tem as seguintes informações: [29.85 56.95 53.85 ... 63.1  44.2  78.7 ]\n",
            "A coluna gastos_total tem as seguintes informações: ['29.85' '1889.5' '108.15' ... '346.45' '306.6' '6844.5']\n",
            "A coluna Churn tem as seguintes informações: ['No' 'Yes']\n"
          ]
        }
      ],
      "source": [
        "colunas = dados.columns.tolist()\n",
        "for coluna in colunas:\n",
        "  print(f'A coluna {coluna} tem as seguintes informações: {dados[coluna].unique()}')"
      ]
    },
    {
      "cell_type": "markdown",
      "id": "05dd4278",
      "metadata": {
        "id": "05dd4278"
      },
      "source": [
        "### Traduzindo os dados"
      ]
    },
    {
      "cell_type": "code",
      "execution_count": null,
      "id": "b5273e13",
      "metadata": {
        "id": "b5273e13"
      },
      "outputs": [],
      "source": [
        "dados.replace({'Female':'Feminino', 'Male':'Masculino', 'Yes':'Sim', 'No':'Nao', 'No phone service':'Sem servico telefonico',\n",
        "              'Fiber optic':'Fibra otica', 'No internet service':'Sem servico de internet', 'Month-to-month':'Mensal', \n",
        "              'One year':'Um ano', 'Two year':'Dois anos', 'Electronic check': 'Cheque eletrônico', 'Mailed check':'Cheque',\n",
        "               'Bank transfer (automatic)': 'Transferência bancaria', 'Credit card (automatic)': 'Cartão de credito'},  inplace = True)\n"
      ]
    },
    {
      "cell_type": "code",
      "execution_count": null,
      "id": "226f369d",
      "metadata": {
        "id": "226f369d"
      },
      "outputs": [],
      "source": [
        "dados.idoso.replace({0:'Nao', 1:'Sim'},  inplace = True)"
      ]
    },
    {
      "cell_type": "code",
      "execution_count": null,
      "id": "391cddba",
      "metadata": {
        "id": "391cddba",
        "outputId": "ddda9d80-45d2-460f-eaee-6b3e25626f46"
      },
      "outputs": [
        {
          "name": "stdout",
          "output_type": "stream",
          "text": [
            "A coluna IDcliente tem as seguintes informações: ['7590-VHVEG' '5575-GNVDE' '3668-QPYBK' ... '4801-JZAZL' '8361-LTMKD'\n",
            " '3186-AJIEK']\n",
            "A coluna sexo tem as seguintes informações: ['Feminino' 'Masculino']\n",
            "A coluna idoso tem as seguintes informações: ['Nao' 'Sim']\n",
            "A coluna parceiro tem as seguintes informações: ['Sim' 'Nao']\n",
            "A coluna dependentes tem as seguintes informações: ['Nao' 'Sim']\n",
            "A coluna tempo_contrato tem as seguintes informações: [ 1 34  2 45  8 22 10 28 62 13 16 58 49 25 69 52 71 21 12 30 47 72 17 27\n",
            "  5 46 11 70 63 43 15 60 18 66  9  3 31 50 64 56  7 42 35 48 29 65 38 68\n",
            " 32 55 37 36 41  6  4 33 67 23 57 61 14 20 53 40 59 24 44 19 54 51 26  0\n",
            " 39]\n",
            "A coluna servico_telefonico tem as seguintes informações: ['Nao' 'Sim']\n",
            "A coluna multiplas_linhas tem as seguintes informações: ['Sem servico telefonico' 'Nao' 'Sim']\n",
            "A coluna servico_internet tem as seguintes informações: ['DSL' 'Fibra otica' 'Nao']\n",
            "A coluna seguranca_online tem as seguintes informações: ['Nao' 'Sim' 'Sem servico de internet']\n",
            "A coluna backup_online tem as seguintes informações: ['Sim' 'Nao' 'Sem servico de internet']\n",
            "A coluna protecao_dispositivo tem as seguintes informações: ['Nao' 'Sim' 'Sem servico de internet']\n",
            "A coluna suporte_tecnico tem as seguintes informações: ['Nao' 'Sim' 'Sem servico de internet']\n",
            "A coluna TV_a_cabo tem as seguintes informações: ['Nao' 'Sim' 'Sem servico de internet']\n",
            "A coluna streaming_filmes tem as seguintes informações: ['Nao' 'Sim' 'Sem servico de internet']\n",
            "A coluna tipo_contrato tem as seguintes informações: ['Mensal' 'Um ano' 'Dois anos']\n",
            "A coluna conta_online tem as seguintes informações: ['Sim' 'Nao']\n",
            "A coluna forma_pagamento tem as seguintes informações: ['Cheque eletrônico' 'Cheque' 'Transferência bancaria' 'Cartão de credito']\n",
            "A coluna gastos_mes tem as seguintes informações: [29.85 56.95 53.85 ... 63.1  44.2  78.7 ]\n",
            "A coluna gastos_total tem as seguintes informações: ['29.85' '1889.5' '108.15' ... '346.45' '306.6' '6844.5']\n",
            "A coluna Churn tem as seguintes informações: ['Nao' 'Sim']\n"
          ]
        }
      ],
      "source": [
        "colunas = dados.columns.tolist()\n",
        "for coluna in colunas:\n",
        "  print(f'A coluna {coluna} tem as seguintes informações: {dados[coluna].unique()}')"
      ]
    },
    {
      "cell_type": "markdown",
      "id": "c03a0f09",
      "metadata": {
        "id": "c03a0f09"
      },
      "source": [
        "### Mudanto o tipo de dados da coluna gastos_total de obj para float"
      ]
    },
    {
      "cell_type": "code",
      "execution_count": null,
      "id": "29b076b0",
      "metadata": {
        "id": "29b076b0"
      },
      "outputs": [],
      "source": [
        "dados['gastos_total'] = pd.to_numeric(dados['gastos_total'], errors='coerce')"
      ]
    },
    {
      "cell_type": "code",
      "execution_count": null,
      "id": "ea59fcd6",
      "metadata": {
        "id": "ea59fcd6",
        "outputId": "d6d81ddb-db36-45f6-c94e-9907bef27c0f"
      },
      "outputs": [
        {
          "name": "stdout",
          "output_type": "stream",
          "text": [
            "<class 'pandas.core.frame.DataFrame'>\n",
            "RangeIndex: 7043 entries, 0 to 7042\n",
            "Data columns (total 21 columns):\n",
            " #   Column                Non-Null Count  Dtype  \n",
            "---  ------                --------------  -----  \n",
            " 0   IDcliente             7043 non-null   object \n",
            " 1   sexo                  7043 non-null   object \n",
            " 2   idoso                 7043 non-null   object \n",
            " 3   parceiro              7043 non-null   object \n",
            " 4   dependentes           7043 non-null   object \n",
            " 5   tempo_contrato        7043 non-null   int64  \n",
            " 6   servico_telefonico    7043 non-null   object \n",
            " 7   multiplas_linhas      7043 non-null   object \n",
            " 8   servico_internet      7043 non-null   object \n",
            " 9   seguranca_online      7043 non-null   object \n",
            " 10  backup_online         7043 non-null   object \n",
            " 11  protecao_dispositivo  7043 non-null   object \n",
            " 12  suporte_tecnico       7043 non-null   object \n",
            " 13  TV_a_cabo             7043 non-null   object \n",
            " 14  streaming_filmes      7043 non-null   object \n",
            " 15  tipo_contrato         7043 non-null   object \n",
            " 16  conta_online          7043 non-null   object \n",
            " 17  forma_pagamento       7043 non-null   object \n",
            " 18  gastos_mes            7043 non-null   float64\n",
            " 19  gastos_total          7032 non-null   float64\n",
            " 20  Churn                 7043 non-null   object \n",
            "dtypes: float64(2), int64(1), object(18)\n",
            "memory usage: 1.1+ MB\n"
          ]
        }
      ],
      "source": [
        "dados.info()"
      ]
    },
    {
      "cell_type": "markdown",
      "id": "c4a75868",
      "metadata": {
        "id": "c4a75868"
      },
      "source": [
        "Existe 11 valores nulos em gastos totais"
      ]
    },
    {
      "cell_type": "code",
      "execution_count": null,
      "id": "42cd3013",
      "metadata": {
        "id": "42cd3013",
        "outputId": "b44eac78-923b-4ae6-84af-aa8b830c1d29"
      },
      "outputs": [
        {
          "data": {
            "text/html": [
              "<div>\n",
              "<style scoped>\n",
              "    .dataframe tbody tr th:only-of-type {\n",
              "        vertical-align: middle;\n",
              "    }\n",
              "\n",
              "    .dataframe tbody tr th {\n",
              "        vertical-align: top;\n",
              "    }\n",
              "\n",
              "    .dataframe thead th {\n",
              "        text-align: right;\n",
              "    }\n",
              "</style>\n",
              "<table border=\"1\" class=\"dataframe\">\n",
              "  <thead>\n",
              "    <tr style=\"text-align: right;\">\n",
              "      <th></th>\n",
              "      <th>IDcliente</th>\n",
              "      <th>sexo</th>\n",
              "      <th>idoso</th>\n",
              "      <th>parceiro</th>\n",
              "      <th>dependentes</th>\n",
              "      <th>tempo_contrato</th>\n",
              "      <th>servico_telefonico</th>\n",
              "      <th>multiplas_linhas</th>\n",
              "      <th>servico_internet</th>\n",
              "      <th>seguranca_online</th>\n",
              "      <th>backup_online</th>\n",
              "      <th>protecao_dispositivo</th>\n",
              "      <th>suporte_tecnico</th>\n",
              "      <th>TV_a_cabo</th>\n",
              "      <th>streaming_filmes</th>\n",
              "      <th>tipo_contrato</th>\n",
              "      <th>conta_online</th>\n",
              "      <th>forma_pagamento</th>\n",
              "      <th>gastos_mes</th>\n",
              "      <th>gastos_total</th>\n",
              "      <th>Churn</th>\n",
              "    </tr>\n",
              "  </thead>\n",
              "  <tbody>\n",
              "    <tr>\n",
              "      <th>488</th>\n",
              "      <td>4472-LVYGI</td>\n",
              "      <td>Feminino</td>\n",
              "      <td>Nao</td>\n",
              "      <td>Sim</td>\n",
              "      <td>Sim</td>\n",
              "      <td>0</td>\n",
              "      <td>Nao</td>\n",
              "      <td>Sem servico telefonico</td>\n",
              "      <td>DSL</td>\n",
              "      <td>Sim</td>\n",
              "      <td>Nao</td>\n",
              "      <td>Sim</td>\n",
              "      <td>Sim</td>\n",
              "      <td>Sim</td>\n",
              "      <td>Nao</td>\n",
              "      <td>Dois anos</td>\n",
              "      <td>Sim</td>\n",
              "      <td>Transferência bancaria</td>\n",
              "      <td>52.55</td>\n",
              "      <td>NaN</td>\n",
              "      <td>Nao</td>\n",
              "    </tr>\n",
              "    <tr>\n",
              "      <th>753</th>\n",
              "      <td>3115-CZMZD</td>\n",
              "      <td>Masculino</td>\n",
              "      <td>Nao</td>\n",
              "      <td>Nao</td>\n",
              "      <td>Sim</td>\n",
              "      <td>0</td>\n",
              "      <td>Sim</td>\n",
              "      <td>Nao</td>\n",
              "      <td>Nao</td>\n",
              "      <td>Sem servico de internet</td>\n",
              "      <td>Sem servico de internet</td>\n",
              "      <td>Sem servico de internet</td>\n",
              "      <td>Sem servico de internet</td>\n",
              "      <td>Sem servico de internet</td>\n",
              "      <td>Sem servico de internet</td>\n",
              "      <td>Dois anos</td>\n",
              "      <td>Nao</td>\n",
              "      <td>Cheque</td>\n",
              "      <td>20.25</td>\n",
              "      <td>NaN</td>\n",
              "      <td>Nao</td>\n",
              "    </tr>\n",
              "    <tr>\n",
              "      <th>936</th>\n",
              "      <td>5709-LVOEQ</td>\n",
              "      <td>Feminino</td>\n",
              "      <td>Nao</td>\n",
              "      <td>Sim</td>\n",
              "      <td>Sim</td>\n",
              "      <td>0</td>\n",
              "      <td>Sim</td>\n",
              "      <td>Nao</td>\n",
              "      <td>DSL</td>\n",
              "      <td>Sim</td>\n",
              "      <td>Sim</td>\n",
              "      <td>Sim</td>\n",
              "      <td>Nao</td>\n",
              "      <td>Sim</td>\n",
              "      <td>Sim</td>\n",
              "      <td>Dois anos</td>\n",
              "      <td>Nao</td>\n",
              "      <td>Cheque</td>\n",
              "      <td>80.85</td>\n",
              "      <td>NaN</td>\n",
              "      <td>Nao</td>\n",
              "    </tr>\n",
              "    <tr>\n",
              "      <th>1082</th>\n",
              "      <td>4367-NUYAO</td>\n",
              "      <td>Masculino</td>\n",
              "      <td>Nao</td>\n",
              "      <td>Sim</td>\n",
              "      <td>Sim</td>\n",
              "      <td>0</td>\n",
              "      <td>Sim</td>\n",
              "      <td>Sim</td>\n",
              "      <td>Nao</td>\n",
              "      <td>Sem servico de internet</td>\n",
              "      <td>Sem servico de internet</td>\n",
              "      <td>Sem servico de internet</td>\n",
              "      <td>Sem servico de internet</td>\n",
              "      <td>Sem servico de internet</td>\n",
              "      <td>Sem servico de internet</td>\n",
              "      <td>Dois anos</td>\n",
              "      <td>Nao</td>\n",
              "      <td>Cheque</td>\n",
              "      <td>25.75</td>\n",
              "      <td>NaN</td>\n",
              "      <td>Nao</td>\n",
              "    </tr>\n",
              "    <tr>\n",
              "      <th>1340</th>\n",
              "      <td>1371-DWPAZ</td>\n",
              "      <td>Feminino</td>\n",
              "      <td>Nao</td>\n",
              "      <td>Sim</td>\n",
              "      <td>Sim</td>\n",
              "      <td>0</td>\n",
              "      <td>Nao</td>\n",
              "      <td>Sem servico telefonico</td>\n",
              "      <td>DSL</td>\n",
              "      <td>Sim</td>\n",
              "      <td>Sim</td>\n",
              "      <td>Sim</td>\n",
              "      <td>Sim</td>\n",
              "      <td>Sim</td>\n",
              "      <td>Nao</td>\n",
              "      <td>Dois anos</td>\n",
              "      <td>Nao</td>\n",
              "      <td>Cartão de credito</td>\n",
              "      <td>56.05</td>\n",
              "      <td>NaN</td>\n",
              "      <td>Nao</td>\n",
              "    </tr>\n",
              "    <tr>\n",
              "      <th>3331</th>\n",
              "      <td>7644-OMVMY</td>\n",
              "      <td>Masculino</td>\n",
              "      <td>Nao</td>\n",
              "      <td>Sim</td>\n",
              "      <td>Sim</td>\n",
              "      <td>0</td>\n",
              "      <td>Sim</td>\n",
              "      <td>Nao</td>\n",
              "      <td>Nao</td>\n",
              "      <td>Sem servico de internet</td>\n",
              "      <td>Sem servico de internet</td>\n",
              "      <td>Sem servico de internet</td>\n",
              "      <td>Sem servico de internet</td>\n",
              "      <td>Sem servico de internet</td>\n",
              "      <td>Sem servico de internet</td>\n",
              "      <td>Dois anos</td>\n",
              "      <td>Nao</td>\n",
              "      <td>Cheque</td>\n",
              "      <td>19.85</td>\n",
              "      <td>NaN</td>\n",
              "      <td>Nao</td>\n",
              "    </tr>\n",
              "    <tr>\n",
              "      <th>3826</th>\n",
              "      <td>3213-VVOLG</td>\n",
              "      <td>Masculino</td>\n",
              "      <td>Nao</td>\n",
              "      <td>Sim</td>\n",
              "      <td>Sim</td>\n",
              "      <td>0</td>\n",
              "      <td>Sim</td>\n",
              "      <td>Sim</td>\n",
              "      <td>Nao</td>\n",
              "      <td>Sem servico de internet</td>\n",
              "      <td>Sem servico de internet</td>\n",
              "      <td>Sem servico de internet</td>\n",
              "      <td>Sem servico de internet</td>\n",
              "      <td>Sem servico de internet</td>\n",
              "      <td>Sem servico de internet</td>\n",
              "      <td>Dois anos</td>\n",
              "      <td>Nao</td>\n",
              "      <td>Cheque</td>\n",
              "      <td>25.35</td>\n",
              "      <td>NaN</td>\n",
              "      <td>Nao</td>\n",
              "    </tr>\n",
              "    <tr>\n",
              "      <th>4380</th>\n",
              "      <td>2520-SGTTA</td>\n",
              "      <td>Feminino</td>\n",
              "      <td>Nao</td>\n",
              "      <td>Sim</td>\n",
              "      <td>Sim</td>\n",
              "      <td>0</td>\n",
              "      <td>Sim</td>\n",
              "      <td>Nao</td>\n",
              "      <td>Nao</td>\n",
              "      <td>Sem servico de internet</td>\n",
              "      <td>Sem servico de internet</td>\n",
              "      <td>Sem servico de internet</td>\n",
              "      <td>Sem servico de internet</td>\n",
              "      <td>Sem servico de internet</td>\n",
              "      <td>Sem servico de internet</td>\n",
              "      <td>Dois anos</td>\n",
              "      <td>Nao</td>\n",
              "      <td>Cheque</td>\n",
              "      <td>20.00</td>\n",
              "      <td>NaN</td>\n",
              "      <td>Nao</td>\n",
              "    </tr>\n",
              "    <tr>\n",
              "      <th>5218</th>\n",
              "      <td>2923-ARZLG</td>\n",
              "      <td>Masculino</td>\n",
              "      <td>Nao</td>\n",
              "      <td>Sim</td>\n",
              "      <td>Sim</td>\n",
              "      <td>0</td>\n",
              "      <td>Sim</td>\n",
              "      <td>Nao</td>\n",
              "      <td>Nao</td>\n",
              "      <td>Sem servico de internet</td>\n",
              "      <td>Sem servico de internet</td>\n",
              "      <td>Sem servico de internet</td>\n",
              "      <td>Sem servico de internet</td>\n",
              "      <td>Sem servico de internet</td>\n",
              "      <td>Sem servico de internet</td>\n",
              "      <td>Um ano</td>\n",
              "      <td>Sim</td>\n",
              "      <td>Cheque</td>\n",
              "      <td>19.70</td>\n",
              "      <td>NaN</td>\n",
              "      <td>Nao</td>\n",
              "    </tr>\n",
              "    <tr>\n",
              "      <th>6670</th>\n",
              "      <td>4075-WKNIU</td>\n",
              "      <td>Feminino</td>\n",
              "      <td>Nao</td>\n",
              "      <td>Sim</td>\n",
              "      <td>Sim</td>\n",
              "      <td>0</td>\n",
              "      <td>Sim</td>\n",
              "      <td>Sim</td>\n",
              "      <td>DSL</td>\n",
              "      <td>Nao</td>\n",
              "      <td>Sim</td>\n",
              "      <td>Sim</td>\n",
              "      <td>Sim</td>\n",
              "      <td>Sim</td>\n",
              "      <td>Nao</td>\n",
              "      <td>Dois anos</td>\n",
              "      <td>Nao</td>\n",
              "      <td>Cheque</td>\n",
              "      <td>73.35</td>\n",
              "      <td>NaN</td>\n",
              "      <td>Nao</td>\n",
              "    </tr>\n",
              "    <tr>\n",
              "      <th>6754</th>\n",
              "      <td>2775-SEFEE</td>\n",
              "      <td>Masculino</td>\n",
              "      <td>Nao</td>\n",
              "      <td>Nao</td>\n",
              "      <td>Sim</td>\n",
              "      <td>0</td>\n",
              "      <td>Sim</td>\n",
              "      <td>Sim</td>\n",
              "      <td>DSL</td>\n",
              "      <td>Sim</td>\n",
              "      <td>Sim</td>\n",
              "      <td>Nao</td>\n",
              "      <td>Sim</td>\n",
              "      <td>Nao</td>\n",
              "      <td>Nao</td>\n",
              "      <td>Dois anos</td>\n",
              "      <td>Sim</td>\n",
              "      <td>Transferência bancaria</td>\n",
              "      <td>61.90</td>\n",
              "      <td>NaN</td>\n",
              "      <td>Nao</td>\n",
              "    </tr>\n",
              "  </tbody>\n",
              "</table>\n",
              "</div>"
            ],
            "text/plain": [
              "       IDcliente       sexo idoso parceiro dependentes  tempo_contrato  \\\n",
              "488   4472-LVYGI   Feminino   Nao      Sim         Sim               0   \n",
              "753   3115-CZMZD  Masculino   Nao      Nao         Sim               0   \n",
              "936   5709-LVOEQ   Feminino   Nao      Sim         Sim               0   \n",
              "1082  4367-NUYAO  Masculino   Nao      Sim         Sim               0   \n",
              "1340  1371-DWPAZ   Feminino   Nao      Sim         Sim               0   \n",
              "3331  7644-OMVMY  Masculino   Nao      Sim         Sim               0   \n",
              "3826  3213-VVOLG  Masculino   Nao      Sim         Sim               0   \n",
              "4380  2520-SGTTA   Feminino   Nao      Sim         Sim               0   \n",
              "5218  2923-ARZLG  Masculino   Nao      Sim         Sim               0   \n",
              "6670  4075-WKNIU   Feminino   Nao      Sim         Sim               0   \n",
              "6754  2775-SEFEE  Masculino   Nao      Nao         Sim               0   \n",
              "\n",
              "     servico_telefonico        multiplas_linhas servico_internet  \\\n",
              "488                 Nao  Sem servico telefonico              DSL   \n",
              "753                 Sim                     Nao              Nao   \n",
              "936                 Sim                     Nao              DSL   \n",
              "1082                Sim                     Sim              Nao   \n",
              "1340                Nao  Sem servico telefonico              DSL   \n",
              "3331                Sim                     Nao              Nao   \n",
              "3826                Sim                     Sim              Nao   \n",
              "4380                Sim                     Nao              Nao   \n",
              "5218                Sim                     Nao              Nao   \n",
              "6670                Sim                     Sim              DSL   \n",
              "6754                Sim                     Sim              DSL   \n",
              "\n",
              "             seguranca_online            backup_online  \\\n",
              "488                       Sim                      Nao   \n",
              "753   Sem servico de internet  Sem servico de internet   \n",
              "936                       Sim                      Sim   \n",
              "1082  Sem servico de internet  Sem servico de internet   \n",
              "1340                      Sim                      Sim   \n",
              "3331  Sem servico de internet  Sem servico de internet   \n",
              "3826  Sem servico de internet  Sem servico de internet   \n",
              "4380  Sem servico de internet  Sem servico de internet   \n",
              "5218  Sem servico de internet  Sem servico de internet   \n",
              "6670                      Nao                      Sim   \n",
              "6754                      Sim                      Sim   \n",
              "\n",
              "         protecao_dispositivo          suporte_tecnico  \\\n",
              "488                       Sim                      Sim   \n",
              "753   Sem servico de internet  Sem servico de internet   \n",
              "936                       Sim                      Nao   \n",
              "1082  Sem servico de internet  Sem servico de internet   \n",
              "1340                      Sim                      Sim   \n",
              "3331  Sem servico de internet  Sem servico de internet   \n",
              "3826  Sem servico de internet  Sem servico de internet   \n",
              "4380  Sem servico de internet  Sem servico de internet   \n",
              "5218  Sem servico de internet  Sem servico de internet   \n",
              "6670                      Sim                      Sim   \n",
              "6754                      Nao                      Sim   \n",
              "\n",
              "                    TV_a_cabo         streaming_filmes tipo_contrato  \\\n",
              "488                       Sim                      Nao     Dois anos   \n",
              "753   Sem servico de internet  Sem servico de internet     Dois anos   \n",
              "936                       Sim                      Sim     Dois anos   \n",
              "1082  Sem servico de internet  Sem servico de internet     Dois anos   \n",
              "1340                      Sim                      Nao     Dois anos   \n",
              "3331  Sem servico de internet  Sem servico de internet     Dois anos   \n",
              "3826  Sem servico de internet  Sem servico de internet     Dois anos   \n",
              "4380  Sem servico de internet  Sem servico de internet     Dois anos   \n",
              "5218  Sem servico de internet  Sem servico de internet        Um ano   \n",
              "6670                      Sim                      Nao     Dois anos   \n",
              "6754                      Nao                      Nao     Dois anos   \n",
              "\n",
              "     conta_online         forma_pagamento  gastos_mes  gastos_total Churn  \n",
              "488           Sim  Transferência bancaria       52.55           NaN   Nao  \n",
              "753           Nao                  Cheque       20.25           NaN   Nao  \n",
              "936           Nao                  Cheque       80.85           NaN   Nao  \n",
              "1082          Nao                  Cheque       25.75           NaN   Nao  \n",
              "1340          Nao       Cartão de credito       56.05           NaN   Nao  \n",
              "3331          Nao                  Cheque       19.85           NaN   Nao  \n",
              "3826          Nao                  Cheque       25.35           NaN   Nao  \n",
              "4380          Nao                  Cheque       20.00           NaN   Nao  \n",
              "5218          Sim                  Cheque       19.70           NaN   Nao  \n",
              "6670          Nao                  Cheque       73.35           NaN   Nao  \n",
              "6754          Sim  Transferência bancaria       61.90           NaN   Nao  "
            ]
          },
          "execution_count": 15,
          "metadata": {},
          "output_type": "execute_result"
        }
      ],
      "source": [
        "dados[dados['gastos_total'].isna()]"
      ]
    },
    {
      "cell_type": "markdown",
      "id": "9356d7df",
      "metadata": {
        "id": "9356d7df"
      },
      "source": [
        "Os valores nulos da coluna gastos_total tem relação com tempo de contrato no valor 0. Possivelmente se trata de contratos novos, mas pra não ter duvida irei eliminar esse valores também."
      ]
    },
    {
      "cell_type": "code",
      "execution_count": null,
      "id": "7abd80d5",
      "metadata": {
        "id": "7abd80d5"
      },
      "outputs": [],
      "source": [
        "dados = dados.dropna()"
      ]
    },
    {
      "cell_type": "code",
      "execution_count": null,
      "id": "a1b21bb2",
      "metadata": {
        "id": "a1b21bb2",
        "outputId": "74c16131-b9c3-4dbc-fc7a-aa31ca38873e"
      },
      "outputs": [
        {
          "name": "stdout",
          "output_type": "stream",
          "text": [
            "<class 'pandas.core.frame.DataFrame'>\n",
            "Int64Index: 7032 entries, 0 to 7042\n",
            "Data columns (total 21 columns):\n",
            " #   Column                Non-Null Count  Dtype  \n",
            "---  ------                --------------  -----  \n",
            " 0   IDcliente             7032 non-null   object \n",
            " 1   sexo                  7032 non-null   object \n",
            " 2   idoso                 7032 non-null   object \n",
            " 3   parceiro              7032 non-null   object \n",
            " 4   dependentes           7032 non-null   object \n",
            " 5   tempo_contrato        7032 non-null   int64  \n",
            " 6   servico_telefonico    7032 non-null   object \n",
            " 7   multiplas_linhas      7032 non-null   object \n",
            " 8   servico_internet      7032 non-null   object \n",
            " 9   seguranca_online      7032 non-null   object \n",
            " 10  backup_online         7032 non-null   object \n",
            " 11  protecao_dispositivo  7032 non-null   object \n",
            " 12  suporte_tecnico       7032 non-null   object \n",
            " 13  TV_a_cabo             7032 non-null   object \n",
            " 14  streaming_filmes      7032 non-null   object \n",
            " 15  tipo_contrato         7032 non-null   object \n",
            " 16  conta_online          7032 non-null   object \n",
            " 17  forma_pagamento       7032 non-null   object \n",
            " 18  gastos_mes            7032 non-null   float64\n",
            " 19  gastos_total          7032 non-null   float64\n",
            " 20  Churn                 7032 non-null   object \n",
            "dtypes: float64(2), int64(1), object(18)\n",
            "memory usage: 1.2+ MB\n"
          ]
        }
      ],
      "source": [
        "dados.info()"
      ]
    },
    {
      "cell_type": "markdown",
      "id": "80202cef",
      "metadata": {
        "id": "80202cef"
      },
      "source": [
        "### Salvando / Exportando dados"
      ]
    },
    {
      "cell_type": "code",
      "execution_count": null,
      "id": "03f27709",
      "metadata": {
        "id": "03f27709"
      },
      "outputs": [],
      "source": [
        "dados.to_csv('dados_tratados.csv', sep = ';')"
      ]
    },
    {
      "cell_type": "markdown",
      "id": "e18a710d",
      "metadata": {
        "id": "e18a710d"
      },
      "source": [
        "### Análise estatistica"
      ]
    },
    {
      "cell_type": "code",
      "execution_count": null,
      "id": "40c10eae",
      "metadata": {
        "id": "40c10eae",
        "outputId": "629e05e2-8f72-46ac-ac7b-9dabec823c9c"
      },
      "outputs": [
        {
          "data": {
            "text/html": [
              "<div>\n",
              "<style scoped>\n",
              "    .dataframe tbody tr th:only-of-type {\n",
              "        vertical-align: middle;\n",
              "    }\n",
              "\n",
              "    .dataframe tbody tr th {\n",
              "        vertical-align: top;\n",
              "    }\n",
              "\n",
              "    .dataframe thead th {\n",
              "        text-align: right;\n",
              "    }\n",
              "</style>\n",
              "<table border=\"1\" class=\"dataframe\">\n",
              "  <thead>\n",
              "    <tr style=\"text-align: right;\">\n",
              "      <th></th>\n",
              "      <th>tempo_contrato</th>\n",
              "      <th>gastos_mes</th>\n",
              "      <th>gastos_total</th>\n",
              "    </tr>\n",
              "  </thead>\n",
              "  <tbody>\n",
              "    <tr>\n",
              "      <th>count</th>\n",
              "      <td>7032.000000</td>\n",
              "      <td>7032.000000</td>\n",
              "      <td>7032.000000</td>\n",
              "    </tr>\n",
              "    <tr>\n",
              "      <th>mean</th>\n",
              "      <td>32.421786</td>\n",
              "      <td>64.798208</td>\n",
              "      <td>2283.300441</td>\n",
              "    </tr>\n",
              "    <tr>\n",
              "      <th>std</th>\n",
              "      <td>24.545260</td>\n",
              "      <td>30.085974</td>\n",
              "      <td>2266.771362</td>\n",
              "    </tr>\n",
              "    <tr>\n",
              "      <th>min</th>\n",
              "      <td>1.000000</td>\n",
              "      <td>18.250000</td>\n",
              "      <td>18.800000</td>\n",
              "    </tr>\n",
              "    <tr>\n",
              "      <th>25%</th>\n",
              "      <td>9.000000</td>\n",
              "      <td>35.587500</td>\n",
              "      <td>401.450000</td>\n",
              "    </tr>\n",
              "    <tr>\n",
              "      <th>50%</th>\n",
              "      <td>29.000000</td>\n",
              "      <td>70.350000</td>\n",
              "      <td>1397.475000</td>\n",
              "    </tr>\n",
              "    <tr>\n",
              "      <th>75%</th>\n",
              "      <td>55.000000</td>\n",
              "      <td>89.862500</td>\n",
              "      <td>3794.737500</td>\n",
              "    </tr>\n",
              "    <tr>\n",
              "      <th>max</th>\n",
              "      <td>72.000000</td>\n",
              "      <td>118.750000</td>\n",
              "      <td>8684.800000</td>\n",
              "    </tr>\n",
              "  </tbody>\n",
              "</table>\n",
              "</div>"
            ],
            "text/plain": [
              "       tempo_contrato   gastos_mes  gastos_total\n",
              "count     7032.000000  7032.000000   7032.000000\n",
              "mean        32.421786    64.798208   2283.300441\n",
              "std         24.545260    30.085974   2266.771362\n",
              "min          1.000000    18.250000     18.800000\n",
              "25%          9.000000    35.587500    401.450000\n",
              "50%         29.000000    70.350000   1397.475000\n",
              "75%         55.000000    89.862500   3794.737500\n",
              "max         72.000000   118.750000   8684.800000"
            ]
          },
          "execution_count": 19,
          "metadata": {},
          "output_type": "execute_result"
        }
      ],
      "source": [
        "dados.describe()"
      ]
    },
    {
      "cell_type": "markdown",
      "id": "130aa1a6",
      "metadata": {
        "id": "130aa1a6"
      },
      "source": [
        "### Utilizando a biblioteca Seaborn "
      ]
    },
    {
      "cell_type": "markdown",
      "id": "3284ceee",
      "metadata": {
        "id": "3284ceee"
      },
      "source": [
        "O seaborn é uma biblioteca de visualização de dados "
      ]
    },
    {
      "cell_type": "code",
      "execution_count": null,
      "id": "ddb5d4df",
      "metadata": {
        "id": "ddb5d4df"
      },
      "outputs": [],
      "source": [
        "import seaborn as sns\n",
        "import matplotlib.pyplot as plt \n",
        "import numpy as np"
      ]
    },
    {
      "cell_type": "code",
      "execution_count": null,
      "id": "8e42b699",
      "metadata": {
        "id": "8e42b699",
        "outputId": "c42cde0c-7bde-4cdb-c58e-a7422520a502"
      },
      "outputs": [
        {
          "name": "stdout",
          "output_type": "stream",
          "text": [
            "O percentual de clientes que cancelaram a assinarura é de 26.58%\n",
            "O percentual de clientes que não cancelaram a assinarura é de 73.42%\n"
          ]
        },
        {
          "data": {
            "image/png": "[encoded data removed]",
            "text/plain": [
              "<Figure size 360x360 with 1 Axes>"
            ]
          },
          "metadata": {
            "needs_background": "light"
          },
          "output_type": "display_data"
        }
      ],
      "source": [
        "sns.catplot(data=dados,x = 'Churn' , kind ='count' )\n",
        "plt.ylabel('Total')\n",
        "churn = dados.Churn\n",
        "churn_percentual = churn.value_counts(normalize = True).round(4) * 100\n",
        "print(f'O percentual de clientes que cancelaram a assinarura é de {churn_percentual[1]}%')\n",
        "print(f'O percentual de clientes que não cancelaram a assinarura é de {churn_percentual[0]}%')"
      ]
    },
    {
      "cell_type": "code",
      "execution_count": null,
      "id": "568a4300",
      "metadata": {
        "id": "568a4300",
        "outputId": "7901a7b3-c5bc-480f-f43c-b4224fd61542"
      },
      "outputs": [
        {
          "data": {
            "text/plain": [
              "Text(0.5, 0.98, 'Distribuição dos gastos Totais')"
            ]
          },
          "execution_count": 22,
          "metadata": {},
          "output_type": "execute_result"
        },
        {
          "data": {
            "image/png": "[encoded data removed]",
            "text/plain": [
              "<Figure size 1440x360 with 2 Axes>"
            ]
          },
          "metadata": {
            "needs_background": "light"
          },
          "output_type": "display_data"
        }
      ],
      "source": [
        "janela, graficos = plt.subplots(ncols=2, figsize=(20,5))\n",
        "sns.histplot(data=dados.loc[churn == 'Nao'], x='gastos_total', ax=graficos[0])\n",
        "sns.histplot(data=dados.loc[churn == 'Sim'], x='gastos_total', ax=graficos[1], color = sns.color_palette()[1])\n",
        "graficos[0].set_title('Churn - Nao')\n",
        "graficos[1].set_title('Churn - Sim')\n",
        "\n",
        "for grafico in graficos:\n",
        "    grafico.set_xlim(0,9000)\n",
        "    grafico.set_ylim(0,1200)\n",
        "    grafico.set_xlabel('Gastos Totais em US$', fontsize=12)\n",
        "    grafico.set_ylabel('Nº de clientes', fontsize=12)\n",
        "    \n",
        "janela.suptitle(f'Distribuição dos gastos Totais', fontsize=18, weight='bold')\n"
      ]
    },
    {
      "cell_type": "code",
      "execution_count": null,
      "id": "ee9d1911",
      "metadata": {
        "id": "ee9d1911",
        "outputId": "268bb3f8-0ebd-4cd8-ab04-73a41355ec92"
      },
      "outputs": [
        {
          "data": {
            "text/plain": [
              "Text(0.5, 0.98, 'Distribuição dos gastos Mensais')"
            ]
          },
          "execution_count": 23,
          "metadata": {},
          "output_type": "execute_result"
        },
        {
          "data": {
            "image/png": "[encoded data removed]",
            "text/plain": [
              "<Figure size 1440x360 with 2 Axes>"
            ]
          },
          "metadata": {
            "needs_background": "light"
          },
          "output_type": "display_data"
        }
      ],
      "source": [
        "janela, graficos = plt.subplots(ncols=2, figsize=(20,5))\n",
        "sns.histplot(data=dados.loc[churn == 'Nao'], x='gastos_mes', ax=graficos[0])\n",
        "sns.histplot(data=dados.loc[churn == 'Sim'], x='gastos_mes', ax=graficos[1], color = sns.color_palette()[1])\n",
        "graficos[0].set_title('Churn - Nao')\n",
        "graficos[1].set_title('Churn - Sim')\n",
        "\n",
        "for grafico in graficos:\n",
        "    grafico.set_xlim(15,110)\n",
        "    grafico.set_ylim(0,1500)\n",
        "    grafico.set_xlabel('Gastos Totais em US$', fontsize=12)\n",
        "    grafico.set_ylabel('Nº de clientes', fontsize=12)\n",
        "    \n",
        "janela.suptitle(f'Distribuição dos gastos Mensais', fontsize=18, weight='bold')\n"
      ]
    },
    {
      "cell_type": "code",
      "execution_count": null,
      "id": "a97d5262",
      "metadata": {
        "id": "a97d5262",
        "outputId": "f9b0cf16-7a42-4d8c-8b98-ecf6adeffe78"
      },
      "outputs": [
        {
          "data": {
            "text/plain": [
              "Text(0.5, 0.98, 'Distribuição de tempo de contrato')"
            ]
          },
          "execution_count": 24,
          "metadata": {},
          "output_type": "execute_result"
        },
        {
          "data": {
            "image/png": "[encoded data removed]",
            "text/plain": [
              "<Figure size 1440x360 with 2 Axes>"
            ]
          },
          "metadata": {
            "needs_background": "light"
          },
          "output_type": "display_data"
        }
      ],
      "source": [
        "janela, graficos = plt.subplots(ncols=2, figsize=(20,5))\n",
        "sns.histplot(data=dados.loc[churn == 'Nao'], x='tempo_contrato', ax=graficos[0])\n",
        "sns.histplot(data=dados.loc[churn == 'Sim'], x='tempo_contrato', ax=graficos[1], color = sns.color_palette()[1])\n",
        "graficos[0].set_title('Churn - Nao')\n",
        "graficos[1].set_title('Churn - Sim')\n",
        "\n",
        "for grafico in graficos:\n",
        "    grafico.set_xlim(0,75)\n",
        "    grafico.set_ylim(0,1200)\n",
        "    grafico.set_xlabel('Tempo de contrato em meses', fontsize=12)\n",
        "    grafico.set_ylabel('Nº de clientes', fontsize=12)\n",
        "    \n",
        "janela.suptitle(f'Distribuição de tempo de contrato', fontsize=18, weight='bold')\n"
      ]
    },
    {
      "cell_type": "code",
      "execution_count": null,
      "id": "d0b1b446",
      "metadata": {
        "scrolled": false,
        "id": "d0b1b446",
        "outputId": "0de21b00-a099-43db-ea29-42b7fe5685eb"
      },
      "outputs": [
        {
          "data": {
            "text/plain": [
              "Text(0.5, 0.98, 'Perfil dos Clientes')"
            ]
          },
          "execution_count": 25,
          "metadata": {},
          "output_type": "execute_result"
        },
        {
          "data": {
            "image/png": "[encoded data removed]",
            "text/plain": [
              "<Figure size 1440x2880 with 12 Axes>"
            ]
          },
          "metadata": {
            "needs_background": "light"
          },
          "output_type": "display_data"
        }
      ],
      "source": [
        "janela, graficos = plt.subplots(nrows=6, ncols=2, figsize=(20,40))\n",
        "sns.countplot(data=dados, x=\"Churn\", hue=\"sexo\", ax=graficos[0][0])\n",
        "sns.countplot(data=dados, x=\"Churn\", hue=\"idoso\", ax=graficos[0][1])\n",
        "sns.countplot(data=dados, x=\"Churn\", hue=\"parceiro\", ax=graficos[1][0])\n",
        "sns.countplot(data=dados, x=\"Churn\", hue=\"dependentes\", ax=graficos[1][1])\n",
        "sns.countplot(data=dados, x=\"Churn\", hue=\"servico_telefonico\", ax=graficos[2][0])\n",
        "sns.countplot(data=dados, x=\"Churn\", hue=\"multiplas_linhas\", ax=graficos[2][1])\n",
        "sns.countplot(data=dados, x=\"Churn\", hue=\"servico_internet\", ax=graficos[3][0])\n",
        "sns.countplot(data=dados, x=\"Churn\", hue=\"seguranca_online\", ax=graficos[3][1])\n",
        "sns.countplot(data=dados, x=\"Churn\", hue=\"TV_a_cabo\", ax=graficos[4][0])\n",
        "sns.countplot(data=dados, x=\"Churn\", hue=\"streaming_filmes\", ax=graficos[4][1])\n",
        "sns.countplot(data=dados, x=\"Churn\", hue=\"tipo_contrato\", ax=graficos[5][0])\n",
        "sns.countplot(data=dados, x=\"Churn\", hue=\"forma_pagamento\", ax=graficos[5][1])\n",
        "janela.suptitle(f'Perfil dos Clientes', fontsize=18, weight='bold')"
      ]
    },
    {
      "cell_type": "markdown",
      "id": "5c6ae36a",
      "metadata": {
        "id": "5c6ae36a"
      },
      "source": [
        "### Matriz de correlação"
      ]
    },
    {
      "cell_type": "markdown",
      "id": "f128b17f",
      "metadata": {
        "id": "f128b17f"
      },
      "source": [
        "Para a realização dessa matriz, é necessário a mudança dos dados categóricos para binários"
      ]
    },
    {
      "cell_type": "code",
      "execution_count": null,
      "id": "e6437f9d",
      "metadata": {
        "id": "e6437f9d",
        "outputId": "b6273e36-9ba0-4372-c106-a07bb438e10d"
      },
      "outputs": [
        {
          "data": {
            "text/html": [
              "<div>\n",
              "<style scoped>\n",
              "    .dataframe tbody tr th:only-of-type {\n",
              "        vertical-align: middle;\n",
              "    }\n",
              "\n",
              "    .dataframe tbody tr th {\n",
              "        vertical-align: top;\n",
              "    }\n",
              "\n",
              "    .dataframe thead th {\n",
              "        text-align: right;\n",
              "    }\n",
              "</style>\n",
              "<table border=\"1\" class=\"dataframe\">\n",
              "  <thead>\n",
              "    <tr style=\"text-align: right;\">\n",
              "      <th></th>\n",
              "      <th>tempo_contrato</th>\n",
              "      <th>gastos_mes</th>\n",
              "      <th>gastos_total</th>\n",
              "    </tr>\n",
              "  </thead>\n",
              "  <tbody>\n",
              "    <tr>\n",
              "      <th>tempo_contrato</th>\n",
              "      <td>1.000000</td>\n",
              "      <td>0.246862</td>\n",
              "      <td>0.825880</td>\n",
              "    </tr>\n",
              "    <tr>\n",
              "      <th>gastos_mes</th>\n",
              "      <td>0.246862</td>\n",
              "      <td>1.000000</td>\n",
              "      <td>0.651065</td>\n",
              "    </tr>\n",
              "    <tr>\n",
              "      <th>gastos_total</th>\n",
              "      <td>0.825880</td>\n",
              "      <td>0.651065</td>\n",
              "      <td>1.000000</td>\n",
              "    </tr>\n",
              "  </tbody>\n",
              "</table>\n",
              "</div>"
            ],
            "text/plain": [
              "                tempo_contrato  gastos_mes  gastos_total\n",
              "tempo_contrato        1.000000    0.246862      0.825880\n",
              "gastos_mes            0.246862    1.000000      0.651065\n",
              "gastos_total          0.825880    0.651065      1.000000"
            ]
          },
          "execution_count": 26,
          "metadata": {},
          "output_type": "execute_result"
        }
      ],
      "source": [
        "dados.corr()"
      ]
    },
    {
      "cell_type": "code",
      "execution_count": null,
      "id": "16e18a19",
      "metadata": {
        "id": "16e18a19",
        "outputId": "622c7d71-effe-4517-ae09-e71283b7f678"
      },
      "outputs": [
        {
          "data": {
            "text/plain": [
              "<AxesSubplot:>"
            ]
          },
          "execution_count": 27,
          "metadata": {},
          "output_type": "execute_result"
        },
        {
          "data": {
            "image/png": "[encoded data removed]",
            "text/plain": [
              "<Figure size 432x288 with 2 Axes>"
            ]
          },
          "metadata": {
            "needs_background": "light"
          },
          "output_type": "display_data"
        }
      ],
      "source": [
        "mask = np.triu(np.ones_like(dados.corr(), dtype=bool))\n",
        "sns.heatmap(dados.corr(), annot =True, vmin=-1, vmax=1, cmap='coolwarm', mask = mask)"
      ]
    },
    {
      "cell_type": "markdown",
      "id": "2986293c",
      "metadata": {
        "id": "2986293c"
      },
      "source": [
        "Modificação Manual de aguns valores "
      ]
    },
    {
      "cell_type": "code",
      "execution_count": null,
      "id": "38221867",
      "metadata": {
        "id": "38221867",
        "outputId": "14cd431d-9fb0-4813-8ccb-4c6269edd4a3"
      },
      "outputs": [
        {
          "data": {
            "text/html": [
              "<div>\n",
              "<style scoped>\n",
              "    .dataframe tbody tr th:only-of-type {\n",
              "        vertical-align: middle;\n",
              "    }\n",
              "\n",
              "    .dataframe tbody tr th {\n",
              "        vertical-align: top;\n",
              "    }\n",
              "\n",
              "    .dataframe thead th {\n",
              "        text-align: right;\n",
              "    }\n",
              "</style>\n",
              "<table border=\"1\" class=\"dataframe\">\n",
              "  <thead>\n",
              "    <tr style=\"text-align: right;\">\n",
              "      <th></th>\n",
              "      <th>IDcliente</th>\n",
              "      <th>sexo</th>\n",
              "      <th>idoso</th>\n",
              "      <th>parceiro</th>\n",
              "      <th>dependentes</th>\n",
              "      <th>tempo_contrato</th>\n",
              "      <th>servico_telefonico</th>\n",
              "      <th>multiplas_linhas</th>\n",
              "      <th>servico_internet</th>\n",
              "      <th>seguranca_online</th>\n",
              "      <th>backup_online</th>\n",
              "      <th>protecao_dispositivo</th>\n",
              "      <th>suporte_tecnico</th>\n",
              "      <th>TV_a_cabo</th>\n",
              "      <th>streaming_filmes</th>\n",
              "      <th>tipo_contrato</th>\n",
              "      <th>conta_online</th>\n",
              "      <th>forma_pagamento</th>\n",
              "      <th>gastos_mes</th>\n",
              "      <th>gastos_total</th>\n",
              "      <th>Churn</th>\n",
              "    </tr>\n",
              "  </thead>\n",
              "  <tbody>\n",
              "    <tr>\n",
              "      <th>0</th>\n",
              "      <td>7590-VHVEG</td>\n",
              "      <td>1</td>\n",
              "      <td>0</td>\n",
              "      <td>1</td>\n",
              "      <td>0</td>\n",
              "      <td>1</td>\n",
              "      <td>0</td>\n",
              "      <td>0</td>\n",
              "      <td>DSL</td>\n",
              "      <td>0</td>\n",
              "      <td>1</td>\n",
              "      <td>0</td>\n",
              "      <td>0</td>\n",
              "      <td>0</td>\n",
              "      <td>0</td>\n",
              "      <td>Mensal</td>\n",
              "      <td>1</td>\n",
              "      <td>Cheque eletrônico</td>\n",
              "      <td>29.85</td>\n",
              "      <td>29.85</td>\n",
              "      <td>0</td>\n",
              "    </tr>\n",
              "    <tr>\n",
              "      <th>1</th>\n",
              "      <td>5575-GNVDE</td>\n",
              "      <td>0</td>\n",
              "      <td>0</td>\n",
              "      <td>0</td>\n",
              "      <td>0</td>\n",
              "      <td>34</td>\n",
              "      <td>1</td>\n",
              "      <td>0</td>\n",
              "      <td>DSL</td>\n",
              "      <td>1</td>\n",
              "      <td>0</td>\n",
              "      <td>1</td>\n",
              "      <td>0</td>\n",
              "      <td>0</td>\n",
              "      <td>0</td>\n",
              "      <td>Um ano</td>\n",
              "      <td>0</td>\n",
              "      <td>Cheque</td>\n",
              "      <td>56.95</td>\n",
              "      <td>1889.50</td>\n",
              "      <td>0</td>\n",
              "    </tr>\n",
              "    <tr>\n",
              "      <th>2</th>\n",
              "      <td>3668-QPYBK</td>\n",
              "      <td>0</td>\n",
              "      <td>0</td>\n",
              "      <td>0</td>\n",
              "      <td>0</td>\n",
              "      <td>2</td>\n",
              "      <td>1</td>\n",
              "      <td>0</td>\n",
              "      <td>DSL</td>\n",
              "      <td>1</td>\n",
              "      <td>1</td>\n",
              "      <td>0</td>\n",
              "      <td>0</td>\n",
              "      <td>0</td>\n",
              "      <td>0</td>\n",
              "      <td>Mensal</td>\n",
              "      <td>1</td>\n",
              "      <td>Cheque</td>\n",
              "      <td>53.85</td>\n",
              "      <td>108.15</td>\n",
              "      <td>1</td>\n",
              "    </tr>\n",
              "    <tr>\n",
              "      <th>3</th>\n",
              "      <td>7795-CFOCW</td>\n",
              "      <td>0</td>\n",
              "      <td>0</td>\n",
              "      <td>0</td>\n",
              "      <td>0</td>\n",
              "      <td>45</td>\n",
              "      <td>0</td>\n",
              "      <td>0</td>\n",
              "      <td>DSL</td>\n",
              "      <td>1</td>\n",
              "      <td>0</td>\n",
              "      <td>1</td>\n",
              "      <td>1</td>\n",
              "      <td>0</td>\n",
              "      <td>0</td>\n",
              "      <td>Um ano</td>\n",
              "      <td>0</td>\n",
              "      <td>Transferência bancaria</td>\n",
              "      <td>42.30</td>\n",
              "      <td>1840.75</td>\n",
              "      <td>0</td>\n",
              "    </tr>\n",
              "    <tr>\n",
              "      <th>4</th>\n",
              "      <td>9237-HQITU</td>\n",
              "      <td>1</td>\n",
              "      <td>0</td>\n",
              "      <td>0</td>\n",
              "      <td>0</td>\n",
              "      <td>2</td>\n",
              "      <td>1</td>\n",
              "      <td>0</td>\n",
              "      <td>Fibra otica</td>\n",
              "      <td>0</td>\n",
              "      <td>0</td>\n",
              "      <td>0</td>\n",
              "      <td>0</td>\n",
              "      <td>0</td>\n",
              "      <td>0</td>\n",
              "      <td>Mensal</td>\n",
              "      <td>1</td>\n",
              "      <td>Cheque eletrônico</td>\n",
              "      <td>70.70</td>\n",
              "      <td>151.65</td>\n",
              "      <td>1</td>\n",
              "    </tr>\n",
              "  </tbody>\n",
              "</table>\n",
              "</div>"
            ],
            "text/plain": [
              "    IDcliente  sexo  idoso  parceiro  dependentes  tempo_contrato  \\\n",
              "0  7590-VHVEG     1      0         1            0               1   \n",
              "1  5575-GNVDE     0      0         0            0              34   \n",
              "2  3668-QPYBK     0      0         0            0               2   \n",
              "3  7795-CFOCW     0      0         0            0              45   \n",
              "4  9237-HQITU     1      0         0            0               2   \n",
              "\n",
              "   servico_telefonico  multiplas_linhas servico_internet  seguranca_online  \\\n",
              "0                   0                 0              DSL                 0   \n",
              "1                   1                 0              DSL                 1   \n",
              "2                   1                 0              DSL                 1   \n",
              "3                   0                 0              DSL                 1   \n",
              "4                   1                 0      Fibra otica                 0   \n",
              "\n",
              "   backup_online  protecao_dispositivo  suporte_tecnico  TV_a_cabo  \\\n",
              "0              1                     0                0          0   \n",
              "1              0                     1                0          0   \n",
              "2              1                     0                0          0   \n",
              "3              0                     1                1          0   \n",
              "4              0                     0                0          0   \n",
              "\n",
              "   streaming_filmes tipo_contrato  conta_online         forma_pagamento  \\\n",
              "0                 0        Mensal             1       Cheque eletrônico   \n",
              "1                 0        Um ano             0                  Cheque   \n",
              "2                 0        Mensal             1                  Cheque   \n",
              "3                 0        Um ano             0  Transferência bancaria   \n",
              "4                 0        Mensal             1       Cheque eletrônico   \n",
              "\n",
              "   gastos_mes  gastos_total  Churn  \n",
              "0       29.85         29.85      0  \n",
              "1       56.95       1889.50      0  \n",
              "2       53.85        108.15      1  \n",
              "3       42.30       1840.75      0  \n",
              "4       70.70        151.65      1  "
            ]
          },
          "execution_count": 28,
          "metadata": {},
          "output_type": "execute_result"
        }
      ],
      "source": [
        "dados = dados.replace({'Sim':1, 'Nao':0, 'Feminino' : 1, 'Masculino':0, 'Sem servico telefonico':0, 'Sem servico de internet':0})\n",
        "dados.head()"
      ]
    },
    {
      "cell_type": "markdown",
      "id": "5e01c4c0",
      "metadata": {
        "id": "5e01c4c0"
      },
      "source": [
        "Modificação utilizando get dummies"
      ]
    },
    {
      "cell_type": "code",
      "execution_count": null,
      "id": "02a14588",
      "metadata": {
        "scrolled": true,
        "id": "02a14588",
        "outputId": "bcd3878d-d518-4df6-90df-49f85b9627b8"
      },
      "outputs": [
        {
          "data": {
            "text/html": [
              "<div>\n",
              "<style scoped>\n",
              "    .dataframe tbody tr th:only-of-type {\n",
              "        vertical-align: middle;\n",
              "    }\n",
              "\n",
              "    .dataframe tbody tr th {\n",
              "        vertical-align: top;\n",
              "    }\n",
              "\n",
              "    .dataframe thead th {\n",
              "        text-align: right;\n",
              "    }\n",
              "</style>\n",
              "<table border=\"1\" class=\"dataframe\">\n",
              "  <thead>\n",
              "    <tr style=\"text-align: right;\">\n",
              "      <th></th>\n",
              "      <th>servico_internet_0</th>\n",
              "      <th>servico_internet_DSL</th>\n",
              "      <th>servico_internet_Fibra otica</th>\n",
              "      <th>tipo_contrato_Dois anos</th>\n",
              "      <th>tipo_contrato_Mensal</th>\n",
              "      <th>tipo_contrato_Um ano</th>\n",
              "      <th>forma_pagamento_Cartão de credito</th>\n",
              "      <th>forma_pagamento_Cheque</th>\n",
              "      <th>forma_pagamento_Cheque eletrônico</th>\n",
              "      <th>forma_pagamento_Transferência bancaria</th>\n",
              "    </tr>\n",
              "  </thead>\n",
              "  <tbody>\n",
              "    <tr>\n",
              "      <th>0</th>\n",
              "      <td>0</td>\n",
              "      <td>1</td>\n",
              "      <td>0</td>\n",
              "      <td>0</td>\n",
              "      <td>1</td>\n",
              "      <td>0</td>\n",
              "      <td>0</td>\n",
              "      <td>0</td>\n",
              "      <td>1</td>\n",
              "      <td>0</td>\n",
              "    </tr>\n",
              "    <tr>\n",
              "      <th>1</th>\n",
              "      <td>0</td>\n",
              "      <td>1</td>\n",
              "      <td>0</td>\n",
              "      <td>0</td>\n",
              "      <td>0</td>\n",
              "      <td>1</td>\n",
              "      <td>0</td>\n",
              "      <td>1</td>\n",
              "      <td>0</td>\n",
              "      <td>0</td>\n",
              "    </tr>\n",
              "    <tr>\n",
              "      <th>2</th>\n",
              "      <td>0</td>\n",
              "      <td>1</td>\n",
              "      <td>0</td>\n",
              "      <td>0</td>\n",
              "      <td>1</td>\n",
              "      <td>0</td>\n",
              "      <td>0</td>\n",
              "      <td>1</td>\n",
              "      <td>0</td>\n",
              "      <td>0</td>\n",
              "    </tr>\n",
              "    <tr>\n",
              "      <th>3</th>\n",
              "      <td>0</td>\n",
              "      <td>1</td>\n",
              "      <td>0</td>\n",
              "      <td>0</td>\n",
              "      <td>0</td>\n",
              "      <td>1</td>\n",
              "      <td>0</td>\n",
              "      <td>0</td>\n",
              "      <td>0</td>\n",
              "      <td>1</td>\n",
              "    </tr>\n",
              "    <tr>\n",
              "      <th>4</th>\n",
              "      <td>0</td>\n",
              "      <td>0</td>\n",
              "      <td>1</td>\n",
              "      <td>0</td>\n",
              "      <td>1</td>\n",
              "      <td>0</td>\n",
              "      <td>0</td>\n",
              "      <td>0</td>\n",
              "      <td>1</td>\n",
              "      <td>0</td>\n",
              "    </tr>\n",
              "  </tbody>\n",
              "</table>\n",
              "</div>"
            ],
            "text/plain": [
              "   servico_internet_0  servico_internet_DSL  servico_internet_Fibra otica  \\\n",
              "0                   0                     1                             0   \n",
              "1                   0                     1                             0   \n",
              "2                   0                     1                             0   \n",
              "3                   0                     1                             0   \n",
              "4                   0                     0                             1   \n",
              "\n",
              "   tipo_contrato_Dois anos  tipo_contrato_Mensal  tipo_contrato_Um ano  \\\n",
              "0                        0                     1                     0   \n",
              "1                        0                     0                     1   \n",
              "2                        0                     1                     0   \n",
              "3                        0                     0                     1   \n",
              "4                        0                     1                     0   \n",
              "\n",
              "   forma_pagamento_Cartão de credito  forma_pagamento_Cheque  \\\n",
              "0                                  0                       0   \n",
              "1                                  0                       1   \n",
              "2                                  0                       1   \n",
              "3                                  0                       0   \n",
              "4                                  0                       0   \n",
              "\n",
              "   forma_pagamento_Cheque eletrônico  forma_pagamento_Transferência bancaria  \n",
              "0                                  1                                       0  \n",
              "1                                  0                                       0  \n",
              "2                                  0                                       0  \n",
              "3                                  0                                       1  \n",
              "4                                  1                                       0  "
            ]
          },
          "execution_count": 29,
          "metadata": {},
          "output_type": "execute_result"
        }
      ],
      "source": [
        "dados_dummie = pd.get_dummies(dados[['servico_internet','tipo_contrato', 'forma_pagamento' ]])\n",
        "dados_dummie.head()"
      ]
    },
    {
      "cell_type": "markdown",
      "id": "b6bb9b82",
      "metadata": {
        "id": "b6bb9b82"
      },
      "source": [
        "Juntando aas duas maneiras"
      ]
    },
    {
      "cell_type": "code",
      "execution_count": null,
      "id": "90707d37",
      "metadata": {
        "id": "90707d37"
      },
      "outputs": [],
      "source": [
        "dados_removidos = dados.drop(['servico_internet','tipo_contrato', 'forma_pagamento' ], axis=1)\n",
        "dados_final = pd.concat([dados_removidos, dados_dummie], axis =1 )\n"
      ]
    },
    {
      "cell_type": "code",
      "execution_count": null,
      "id": "aa78334e",
      "metadata": {
        "id": "aa78334e",
        "outputId": "f557d9ca-65df-4fba-d345-1a5b44556b2c"
      },
      "outputs": [
        {
          "data": {
            "text/plain": [
              "(7032, 28)"
            ]
          },
          "execution_count": 31,
          "metadata": {},
          "output_type": "execute_result"
        }
      ],
      "source": [
        "dados_final.shape"
      ]
    },
    {
      "cell_type": "code",
      "execution_count": null,
      "id": "e38fae22",
      "metadata": {
        "id": "e38fae22",
        "outputId": "c17cb134-c33d-4815-b60b-04bcff8f6bd9"
      },
      "outputs": [
        {
          "name": "stdout",
          "output_type": "stream",
          "text": [
            "A coluna IDcliente tem as seguintes informações: ['7590-VHVEG' '5575-GNVDE' '3668-QPYBK' ... '4801-JZAZL' '8361-LTMKD'\n",
            " '3186-AJIEK']\n",
            "A coluna sexo tem as seguintes informações: [1 0]\n",
            "A coluna idoso tem as seguintes informações: [0 1]\n",
            "A coluna parceiro tem as seguintes informações: [1 0]\n",
            "A coluna dependentes tem as seguintes informações: [0 1]\n",
            "A coluna tempo_contrato tem as seguintes informações: [ 1 34  2 45  8 22 10 28 62 13 16 58 49 25 69 52 71 21 12 30 47 72 17 27\n",
            "  5 46 11 70 63 43 15 60 18 66  9  3 31 50 64 56  7 42 35 48 29 65 38 68\n",
            " 32 55 37 36 41  6  4 33 67 23 57 61 14 20 53 40 59 24 44 19 54 51 26 39]\n",
            "A coluna servico_telefonico tem as seguintes informações: [0 1]\n",
            "A coluna multiplas_linhas tem as seguintes informações: [0 1]\n",
            "A coluna seguranca_online tem as seguintes informações: [0 1]\n",
            "A coluna backup_online tem as seguintes informações: [1 0]\n",
            "A coluna protecao_dispositivo tem as seguintes informações: [0 1]\n",
            "A coluna suporte_tecnico tem as seguintes informações: [0 1]\n",
            "A coluna TV_a_cabo tem as seguintes informações: [0 1]\n",
            "A coluna streaming_filmes tem as seguintes informações: [0 1]\n",
            "A coluna conta_online tem as seguintes informações: [1 0]\n",
            "A coluna gastos_mes tem as seguintes informações: [29.85 56.95 53.85 ... 63.1  44.2  78.7 ]\n",
            "A coluna gastos_total tem as seguintes informações: [  29.85 1889.5   108.15 ...  346.45  306.6  6844.5 ]\n",
            "A coluna Churn tem as seguintes informações: [0 1]\n",
            "A coluna servico_internet_0 tem as seguintes informações: [0 1]\n",
            "A coluna servico_internet_DSL tem as seguintes informações: [1 0]\n",
            "A coluna servico_internet_Fibra otica tem as seguintes informações: [0 1]\n",
            "A coluna tipo_contrato_Dois anos tem as seguintes informações: [0 1]\n",
            "A coluna tipo_contrato_Mensal tem as seguintes informações: [1 0]\n",
            "A coluna tipo_contrato_Um ano tem as seguintes informações: [0 1]\n",
            "A coluna forma_pagamento_Cartão de credito tem as seguintes informações: [0 1]\n",
            "A coluna forma_pagamento_Cheque tem as seguintes informações: [0 1]\n",
            "A coluna forma_pagamento_Cheque eletrônico tem as seguintes informações: [1 0]\n",
            "A coluna forma_pagamento_Transferência bancaria tem as seguintes informações: [0 1]\n"
          ]
        }
      ],
      "source": [
        "colunas = dados_final.columns.tolist()\n",
        "for coluna in colunas:\n",
        "  print(f'A coluna {coluna} tem as seguintes informações: {dados_final[coluna].unique()}')"
      ]
    },
    {
      "cell_type": "code",
      "execution_count": null,
      "id": "211ea4d7",
      "metadata": {
        "scrolled": false,
        "id": "211ea4d7",
        "outputId": "a9c6f191-ae9a-4697-ccbd-9a3c0bfdeac6"
      },
      "outputs": [
        {
          "data": {
            "text/plain": [
              "<AxesSubplot:>"
            ]
          },
          "execution_count": 33,
          "metadata": {},
          "output_type": "execute_result"
        },
        {
          "data": {
            "image/png": "[encoded data removed]",
            "text/plain": [
              "<Figure size 1296x720 with 2 Axes>"
            ]
          },
          "metadata": {
            "needs_background": "light"
          },
          "output_type": "display_data"
        }
      ],
      "source": [
        "plt.figure(figsize=(18, 10))\n",
        "mask = np.triu(np.ones_like(dados_final.corr(), dtype=bool))\n",
        "sns.heatmap(dados_final.corr(), annot =True, vmin=-1, vmax=1, cmap='coolwarm', mask = mask)"
      ]
    },
    {
      "cell_type": "markdown",
      "id": "cfd47d18",
      "metadata": {
        "id": "cfd47d18"
      },
      "source": [
        "### Realizando pré processamento e importando bibliotecas necessárias"
      ]
    },
    {
      "cell_type": "code",
      "execution_count": null,
      "id": "6382cd2a",
      "metadata": {
        "id": "6382cd2a"
      },
      "outputs": [],
      "source": [
        "from sklearn.model_selection import train_test_split # Separa os dados de treino e teste\n",
        "from sklearn.preprocessing import StandardScaler     # Ferramenta para otimizar a escala de números\n",
        "\n",
        "from sklearn.dummy import DummyClassifier            # Modelo simples para servir de parametro (Baseline)\n",
        "from sklearn.svm import SVC                          # Modelo Suport Vector Classification\n",
        "from sklearn.tree import DecisionTreeClassifier      # Modelo Arvore de Decisão\n",
        "from sklearn.neighbors import KNeighborsClassifier   # Modelo classificação baseado em visinhos\n",
        "from sklearn.naive_bayes import BernoulliNB          # Modelo probabilistico de Bernoulli Naive Bayes\n",
        "\n",
        "from sklearn.metrics import accuracy_score           # Apresenta a acurácia \n",
        "from sklearn.metrics import precision_score          # Apresenta a precisão\n",
        "from sklearn.metrics import recall_score             # Apresenta o Recall, conhecido como revocação ou sensibilidade\n",
        "\n",
        "from imblearn.over_sampling import SMOTE             # Para balancear a amostra"
      ]
    },
    {
      "cell_type": "markdown",
      "id": "ba6ef4fd",
      "metadata": {
        "id": "ba6ef4fd"
      },
      "source": [
        "Separando os dados em X e Y"
      ]
    },
    {
      "cell_type": "code",
      "execution_count": null,
      "id": "3d8b5824",
      "metadata": {
        "id": "3d8b5824"
      },
      "outputs": [],
      "source": [
        "x = dados_final.drop(['IDcliente','Churn'], axis =1)\n",
        "y = dados_final['Churn']"
      ]
    },
    {
      "cell_type": "code",
      "execution_count": null,
      "id": "ae578522",
      "metadata": {
        "id": "ae578522",
        "outputId": "6f5d2162-aa35-419c-c24c-fbfbb778e34f"
      },
      "outputs": [
        {
          "data": {
            "text/plain": [
              "0    5163\n",
              "1    1869\n",
              "Name: Churn, dtype: int64"
            ]
          },
          "execution_count": 36,
          "metadata": {},
          "output_type": "execute_result"
        }
      ],
      "source": [
        "y.value_counts()"
      ]
    },
    {
      "cell_type": "code",
      "execution_count": null,
      "id": "c20a3217",
      "metadata": {
        "id": "c20a3217"
      },
      "outputs": [],
      "source": [
        "smt = SMOTE(random_state=20)\n",
        "x, y = smt.fit_resample(x, y)"
      ]
    },
    {
      "cell_type": "code",
      "execution_count": null,
      "id": "cf9beb73",
      "metadata": {
        "id": "cf9beb73",
        "outputId": "a22b21fe-a840-42f6-c8d6-2d81023c81a5"
      },
      "outputs": [
        {
          "data": {
            "text/plain": [
              "0    5163\n",
              "1    5163\n",
              "Name: Churn, dtype: int64"
            ]
          },
          "execution_count": 38,
          "metadata": {},
          "output_type": "execute_result"
        }
      ],
      "source": [
        "y.value_counts()"
      ]
    },
    {
      "cell_type": "code",
      "execution_count": null,
      "id": "0faf200c",
      "metadata": {
        "id": "0faf200c"
      },
      "outputs": [],
      "source": [
        "SEED = 20\n",
        "np.random.seed(SEED)\n",
        "raw_treino_x, raw_teste_x, treino_y, teste_y = train_test_split(x, y, test_size = 0.25, stratify = y)"
      ]
    },
    {
      "cell_type": "code",
      "execution_count": null,
      "id": "305760ab",
      "metadata": {
        "id": "305760ab"
      },
      "outputs": [],
      "source": [
        "scaler = StandardScaler()\n",
        "scaler.fit(raw_treino_x)\n",
        "treino_x = scaler.transform(raw_treino_x)\n",
        "teste_x = scaler.transform(raw_teste_x)"
      ]
    },
    {
      "cell_type": "code",
      "execution_count": null,
      "id": "25383993",
      "metadata": {
        "id": "25383993",
        "outputId": "e2ed50e6-4d9a-48f7-ed6d-b48e6fea2334"
      },
      "outputs": [
        {
          "name": "stdout",
          "output_type": "stream",
          "text": [
            "Treinaremos com 7744 elementos e testaremos com 2582 elementos\n"
          ]
        }
      ],
      "source": [
        "print(f'Treinaremos com {len(treino_x)} elementos e testaremos com {len(teste_x)} elementos')"
      ]
    },
    {
      "cell_type": "code",
      "execution_count": null,
      "id": "7e8be358",
      "metadata": {
        "id": "7e8be358",
        "outputId": "4e644ab6-a7fb-4da8-96b1-bb3b881a98f0"
      },
      "outputs": [
        {
          "name": "stdout",
          "output_type": "stream",
          "text": [
            "A acurácia foi 50.00%\n",
            "A precisão foi 0.00%\n",
            "A sensibilidade foi 0.00%\n"
          ]
        },
        {
          "name": "stderr",
          "output_type": "stream",
          "text": [
            "C:\\Users\\nelso\\anaconda3\\lib\\site-packages\\sklearn\\metrics\\_classification.py:1318: UndefinedMetricWarning: Precision is ill-defined and being set to 0.0 due to no predicted samples. Use `zero_division` parameter to control this behavior.\n",
            "  _warn_prf(average, modifier, msg_start, len(result))\n"
          ]
        }
      ],
      "source": [
        "# Modelo Dummy para Baseline\n",
        "\n",
        "dummy = DummyClassifier()\n",
        "dummy.fit(treino_x, treino_y)\n",
        "previsoes_dummy = dummy.predict(teste_x)\n",
        "acuracia_dummy = accuracy_score(teste_y, previsoes_dummy) * 100\n",
        "precisao_dummy = precision_score(teste_y, previsoes_dummy) * 100\n",
        "sensibilidade_dummy = recall_score(teste_y, previsoes_dummy) * 100\n",
        "\n",
        "print(f'A acurácia foi {acuracia_dummy:.2f}%')\n",
        "print(f'A precisão foi {precisao_dummy:.2f}%')\n",
        "print(f'A sensibilidade foi {sensibilidade_dummy:.2f}%')"
      ]
    },
    {
      "cell_type": "markdown",
      "id": "ab229194",
      "metadata": {
        "id": "ab229194"
      },
      "source": [
        "Ultilizando Modelo de classificação SVC (Suport Vector Classification) do Scikitlearn - Algoritmo classificador blackbox (caixapreta)"
      ]
    },
    {
      "cell_type": "code",
      "execution_count": null,
      "id": "c1309416",
      "metadata": {
        "id": "c1309416",
        "outputId": "0a4f91f3-f594-41a0-c4c8-ea09a13a2152"
      },
      "outputs": [
        {
          "name": "stdout",
          "output_type": "stream",
          "text": [
            "A acurácia foi 82.96%\n",
            "A precisão foi 84.07%\n",
            "A sensibilidade foi 81.33%\n"
          ]
        }
      ],
      "source": [
        "# Modelo SVC\n",
        "\n",
        "modelo = SVC(gamma='auto')\n",
        "modelo.fit(treino_x, treino_y)\n",
        "previsoes_svc = modelo.predict(teste_x)\n",
        "acuracia_svc = accuracy_score(teste_y, previsoes_svc) * 100\n",
        "precisao_svc = precision_score(teste_y, previsoes_svc) * 100\n",
        "sensibilidade_svc = recall_score(teste_y, previsoes_svc) * 100\n",
        "\n",
        "print(f'A acurácia foi {acuracia_svc:.2f}%')\n",
        "print(f'A precisão foi {precisao_svc:.2f}%')\n",
        "print(f'A sensibilidade foi {sensibilidade_svc:.2f}%')\n"
      ]
    },
    {
      "cell_type": "code",
      "execution_count": null,
      "id": "9f5d765a",
      "metadata": {
        "id": "9f5d765a",
        "outputId": "354e93bd-9a46-422a-fcf9-8dd311b04a16"
      },
      "outputs": [
        {
          "name": "stdout",
          "output_type": "stream",
          "text": [
            "A acurácia foi 80.52%\n",
            "A precisão foi 81.27%\n",
            "A sensibilidade foi 79.32%\n"
          ]
        }
      ],
      "source": [
        "# Modelo DecisionTreeClassifier\n",
        "\n",
        "modelo_tree = DecisionTreeClassifier()\n",
        "modelo_tree.fit(raw_treino_x, treino_y)\n",
        "previsoes_tree = modelo_tree.predict(raw_teste_x)\n",
        "acuracia_tree = accuracy_score(teste_y, previsoes_tree) * 100\n",
        "precisao_tree = precision_score(teste_y, previsoes_tree) * 100\n",
        "sensibilidade_tree = recall_score(teste_y, previsoes_tree) * 100\n",
        "\n",
        "print(f'A acurácia foi {acuracia_tree:.2f}%')\n",
        "print(f'A precisão foi {precisao_tree:.2f}%')\n",
        "print(f'A sensibilidade foi {sensibilidade_tree:.2f}%')\n"
      ]
    },
    {
      "cell_type": "code",
      "execution_count": null,
      "id": "2e0487a8",
      "metadata": {
        "id": "2e0487a8",
        "outputId": "2b2b97f7-e798-4e50-b09f-e0b8b8b92d60"
      },
      "outputs": [
        {
          "name": "stdout",
          "output_type": "stream",
          "text": [
            "A acurácia foi 81.06%\n",
            "A precisão foi 79.23%\n",
            "A sensibilidade foi 84.20%\n"
          ]
        }
      ],
      "source": [
        "# Modelo Classificador KNeighborsClassifier\n",
        "\n",
        "modelo_knn = KNeighborsClassifier()\n",
        "modelo_knn.fit(treino_x, treino_y)\n",
        "previsoes_knn = modelo_knn.predict(teste_x)\n",
        "acuracia_knn = accuracy_score(teste_y, previsoes_knn) * 100\n",
        "precisao_knn = precision_score(teste_y, previsoes_knn) * 100\n",
        "sensibilidade_knn = recall_score(teste_y, previsoes_knn) * 100\n",
        "\n",
        "print(f'A acurácia foi {acuracia_knn:.2f}%')\n",
        "print(f'A precisão foi {precisao_knn:.2f}%')\n",
        "print(f'A sensibilidade foi {sensibilidade_knn:.2f}%')"
      ]
    },
    {
      "cell_type": "code",
      "execution_count": null,
      "id": "1960c36a",
      "metadata": {
        "id": "1960c36a",
        "outputId": "178164e2-5208-450f-ef78-921253834e14"
      },
      "outputs": [
        {
          "name": "stdout",
          "output_type": "stream",
          "text": [
            "A acurácia foi 78.35%\n",
            "A precisão foi 76.37%\n",
            "A sensibilidade foi 82.11%\n"
          ]
        }
      ],
      "source": [
        "#Modelo BernoulliNB\n",
        "\n",
        "#modelo_bnb = BernoulliNB(binarize = (np.median(treino_x)))\n",
        "modelo_bnb = BernoulliNB()\n",
        "modelo_bnb.fit(treino_x, treino_y)\n",
        "previsoes_bnb = modelo_bnb.predict(teste_x)\n",
        "acuracia_bnb = accuracy_score(teste_y, previsoes_bnb) * 100\n",
        "precisao_bnb = precision_score(teste_y, previsoes_bnb) * 100\n",
        "sensibilidade_bnb = recall_score(teste_y, previsoes_bnb) * 100\n",
        "\n",
        "print(f'A acurácia foi {acuracia_bnb:.2f}%')\n",
        "print(f'A precisão foi {precisao_bnb:.2f}%')\n",
        "print(f'A sensibilidade foi {sensibilidade_bnb:.2f}%')"
      ]
    },
    {
      "cell_type": "code",
      "execution_count": null,
      "id": "621ed270",
      "metadata": {
        "id": "621ed270"
      },
      "outputs": [],
      "source": [
        "#dic_acuracia = {'dummy':acuracia_dummy, 'SVC':acuracia_svc, 'DecisionTreeClassifier':acuracia_tree, 'KNeighborsClassifier':acuracia_knn, 'BernoulliNB':acuracia_bnb }\n",
        "#list_acuracia = [acuracia_dummy, acuracia_svc, acuracia_tree, acuracia_knn, acuracia_bnb]\n",
        "#list_acuracia"
      ]
    },
    {
      "cell_type": "code",
      "execution_count": null,
      "id": "b463ee26",
      "metadata": {
        "id": "b463ee26"
      },
      "outputs": [],
      "source": []
    },
    {
      "cell_type": "code",
      "execution_count": null,
      "id": "8703c5cc",
      "metadata": {
        "id": "8703c5cc"
      },
      "outputs": [],
      "source": []
    },
    {
      "cell_type": "code",
      "execution_count": null,
      "id": "4f446572",
      "metadata": {
        "id": "4f446572"
      },
      "outputs": [],
      "source": []
    }
  ],
  "metadata": {
    "kernelspec": {
      "display_name": "Python 3 (ipykernel)",
      "language": "python",
      "name": "python3"
    },
    "language_info": {
      "codemirror_mode": {
        "name": "ipython",
        "version": 3
      },
      "file_extension": ".py",
      "mimetype": "text/x-python",
      "name": "python",
      "nbconvert_exporter": "python",
      "pygments_lexer": "ipython3",
      "version": "3.9.12"
    },
    "colab": {
      "provenance": [],
      "include_colab_link": true
    }
  },
  "nbformat": 4,
  "nbformat_minor": 5
}